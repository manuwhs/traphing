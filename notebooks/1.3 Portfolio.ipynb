{
 "cells": [
  {
   "cell_type": "markdown",
   "metadata": {},
   "source": [
    "# Portfolio Class\n",
    "\n",
    "This Portfolio class provides the a basic interface to interact with the Technical Analysis data of a set of symbols. It contains a set of *Symbol* objects and provides a similar set functionalities to the Symbol class:\n",
    "<ul>   \n",
    "    <li> Loading and saving the raw candlestick data from different sources (.csv, SQL..).</li>\n",
    "    <li> Handling the data updating, missing data, separating trading sessions...</li>\n",
    "    <li> Technical Analysis indicators</li>\n",
    "    <li> Common plots.</li>\n",
    "</ul>    \n",
    "\n",
    "In adition, it also provides a set of functionalities for portfolio analysis."
   ]
  },
  {
   "cell_type": "markdown",
   "metadata": {},
   "source": [
    "### Import libraries"
   ]
  },
  {
   "cell_type": "code",
   "execution_count": 1,
   "metadata": {},
   "outputs": [],
   "source": [
    "import sys\n",
    "import datetime as dt\n",
    "import pandas as pd\n",
    "from IPython.display import Image\n",
    "%matplotlib qt \n",
    "\n",
    "sys.path.insert(0,\"..\") # Adds higher directory to python modules path.\n",
    "\n",
    "from traphing.data_classes import Velas, Symbol, Portfolio\n",
    "from traphing.utils import Timeframes, unwrap\n",
    "from traphing.graph.Gl import gl"
   ]
  },
  {
   "cell_type": "markdown",
   "metadata": {},
   "source": [
    "## Creating a Symbol instance\n",
    "\n",
    "When we create a Symbol object, we need to specify the basic parameters of the symbol data:\n",
    " - <b>symbol_names_list</b>: A list with the names of the symbols in the portfolio.\n",
    " -  <b>timeframes_list</b>: A list with the different timeframes of the candlesticks we want to include.\n",
    "\n",
    "No candlestick data is loaded when creating the object."
   ]
  },
  {
   "cell_type": "code",
   "execution_count": 2,
   "metadata": {},
   "outputs": [
    {
     "data": {
      "text/plain": [
       "<traphing.data_classes._Portfolio._Portfolio.Portfolio at 0x7fc807dc47d0>"
      ]
     },
     "execution_count": 2,
     "metadata": {},
     "output_type": "execute_result"
    }
   ],
   "source": [
    "portfolio_id = \"Manu's winter portfolio\"\n",
    "symbol_names_list = [\"AUDCHF\", \"AUDCAD\"]\n",
    "timeframes_list = [Timeframes.M15, Timeframes.D1]\n",
    "\n",
    "portfolio = Portfolio(portfolio_id, symbol_names_list, timeframes_list)\n",
    "portfolio"
   ]
  },
  {
   "cell_type": "markdown",
   "metadata": {},
   "source": [
    "The Symbol objects are initialized with no candlestick data. They are stored in an internal dictionary where the key is the *symbol_name* and the value is the Symbol object. This implementation should be transparent to the usage of the Symbol class. \n",
    "\n",
    "We can access the Velas objects inside the Porfolio instance by their *symbol_name*. We can get the current symbol_names_list in the Porfolio object by means of the attribute *symbol_names_list* which has been modify using a *getter* to compute the list dinamically when accessed.\n",
    "\n",
    "We can use the *Porfolio* object as a dictionary to get the Symbol objects."
   ]
  },
  {
   "cell_type": "code",
   "execution_count": 3,
   "metadata": {},
   "outputs": [
    {
     "data": {
      "text/plain": [
       "['AUDCHF', 'AUDCAD']"
      ]
     },
     "execution_count": 3,
     "metadata": {},
     "output_type": "execute_result"
    }
   ],
   "source": [
    "portfolio.symbol_names_list"
   ]
  },
  {
   "cell_type": "code",
   "execution_count": 4,
   "metadata": {},
   "outputs": [
    {
     "data": {
      "text/plain": [
       "<traphing.data_classes._Symbol._Symbol.Symbol at 0x7fc807dc4850>"
      ]
     },
     "execution_count": 4,
     "metadata": {},
     "output_type": "execute_result"
    }
   ],
   "source": [
    "portfolio['AUDCHF']"
   ]
  },
  {
   "cell_type": "markdown",
   "metadata": {},
   "source": [
    "### Adding and removing Symbol objects\n",
    "\n",
    "We can easily add, and delete velas inside the object using the following methods."
   ]
  },
  {
   "cell_type": "code",
   "execution_count": 5,
   "metadata": {},
   "outputs": [
    {
     "name": "stdout",
     "output_type": "stream",
     "text": [
      "['AUDCHF', 'AUDCAD', 'AUC']\n"
     ]
    }
   ],
   "source": [
    "portfolio.add_symbol(\"AUC\", [])\n",
    "print (portfolio.symbol_names_list)"
   ]
  },
  {
   "cell_type": "code",
   "execution_count": 6,
   "metadata": {},
   "outputs": [
    {
     "name": "stdout",
     "output_type": "stream",
     "text": [
      "['AUDCHF', 'AUDCAD']\n"
     ]
    }
   ],
   "source": [
    "portfolio.del_symbol(\"AUC\")\n",
    "print (portfolio.symbol_names_list)"
   ]
  },
  {
   "cell_type": "markdown",
   "metadata": {},
   "source": [
    "## Loading the data from .csv\n",
    "\n",
    "The Porfolio class makes it easy to load the candlestick data for all the symbols at once. It has the same loading functions as the Symbol class, which internally call the same function for all of its Symbol objects."
   ]
  },
  {
   "cell_type": "code",
   "execution_count": 7,
   "metadata": {},
   "outputs": [
    {
     "name": "stdout",
     "output_type": "stream",
     "text": [
      "Size ../tests/data/storage/M15/AUDCHF_M15.csv:  100400  rows\n",
      "Size ../tests/data/storage/D1/AUDCHF_D1.csv:  4894  rows\n",
      "Size ../tests/data/storage/M15/AUDCAD_M15.csv:  99483  rows\n",
      "Size ../tests/data/storage/D1/AUDCAD_D1.csv:  4963  rows\n"
     ]
    }
   ],
   "source": [
    "storage_folder = \"../tests/data/storage/\"\n",
    "portfolio.load_data_from_csv(storage_folder)"
   ]
  },
  {
   "cell_type": "markdown",
   "metadata": {},
   "source": [
    "## Set interval\n",
    "\n",
    "We can set the time interval directly to the *Portfolio* object using the same interface as the one for Velas. The interval applied to the *Symbol* is applied to all of its Velas objects."
   ]
  },
  {
   "cell_type": "code",
   "execution_count": 8,
   "metadata": {},
   "outputs": [],
   "source": [
    "start_time = dt.datetime(2019,7,20)\n",
    "end_time = dt.datetime(2019,8,20)\n",
    "\n",
    "portfolio.set_time_interval(start_time, end_time, trim = False)"
   ]
  },
  {
   "cell_type": "code",
   "execution_count": 9,
   "metadata": {},
   "outputs": [
    {
     "data": {
      "text/html": [
       "<div>\n",
       "<style scoped>\n",
       "    .dataframe tbody tr th:only-of-type {\n",
       "        vertical-align: middle;\n",
       "    }\n",
       "\n",
       "    .dataframe tbody tr th {\n",
       "        vertical-align: top;\n",
       "    }\n",
       "\n",
       "    .dataframe thead th {\n",
       "        text-align: right;\n",
       "    }\n",
       "</style>\n",
       "<table border=\"1\" class=\"dataframe\">\n",
       "  <thead>\n",
       "    <tr style=\"text-align: right;\">\n",
       "      <th></th>\n",
       "      <th>Open</th>\n",
       "      <th>High</th>\n",
       "      <th>Low</th>\n",
       "      <th>Close</th>\n",
       "      <th>Volume</th>\n",
       "    </tr>\n",
       "    <tr>\n",
       "      <th>Timestamp</th>\n",
       "      <th></th>\n",
       "      <th></th>\n",
       "      <th></th>\n",
       "      <th></th>\n",
       "      <th></th>\n",
       "    </tr>\n",
       "  </thead>\n",
       "  <tbody>\n",
       "    <tr>\n",
       "      <td>2019-07-22 00:00:00</td>\n",
       "      <td>0.69208</td>\n",
       "      <td>0.69241</td>\n",
       "      <td>0.69173</td>\n",
       "      <td>0.69213</td>\n",
       "      <td>58.0</td>\n",
       "    </tr>\n",
       "    <tr>\n",
       "      <td>2019-07-22 00:15:00</td>\n",
       "      <td>0.69208</td>\n",
       "      <td>0.69240</td>\n",
       "      <td>0.69124</td>\n",
       "      <td>0.69203</td>\n",
       "      <td>187.0</td>\n",
       "    </tr>\n",
       "    <tr>\n",
       "      <td>2019-07-22 00:30:00</td>\n",
       "      <td>0.69209</td>\n",
       "      <td>0.69253</td>\n",
       "      <td>0.69167</td>\n",
       "      <td>0.69171</td>\n",
       "      <td>411.0</td>\n",
       "    </tr>\n",
       "    <tr>\n",
       "      <td>2019-07-22 00:45:00</td>\n",
       "      <td>0.69199</td>\n",
       "      <td>0.69232</td>\n",
       "      <td>0.69143</td>\n",
       "      <td>0.69185</td>\n",
       "      <td>182.0</td>\n",
       "    </tr>\n",
       "    <tr>\n",
       "      <td>2019-07-22 01:00:00</td>\n",
       "      <td>0.69209</td>\n",
       "      <td>0.69222</td>\n",
       "      <td>0.69142</td>\n",
       "      <td>0.69153</td>\n",
       "      <td>267.0</td>\n",
       "    </tr>\n",
       "    <tr>\n",
       "      <td>...</td>\n",
       "      <td>...</td>\n",
       "      <td>...</td>\n",
       "      <td>...</td>\n",
       "      <td>...</td>\n",
       "      <td>...</td>\n",
       "    </tr>\n",
       "    <tr>\n",
       "      <td>2019-08-20 22:45:00</td>\n",
       "      <td>0.66276</td>\n",
       "      <td>0.66282</td>\n",
       "      <td>0.66254</td>\n",
       "      <td>0.66261</td>\n",
       "      <td>456.0</td>\n",
       "    </tr>\n",
       "    <tr>\n",
       "      <td>2019-08-20 23:00:00</td>\n",
       "      <td>0.66261</td>\n",
       "      <td>0.66270</td>\n",
       "      <td>0.66250</td>\n",
       "      <td>0.66256</td>\n",
       "      <td>214.0</td>\n",
       "    </tr>\n",
       "    <tr>\n",
       "      <td>2019-08-20 23:15:00</td>\n",
       "      <td>0.66255</td>\n",
       "      <td>0.66288</td>\n",
       "      <td>0.66254</td>\n",
       "      <td>0.66266</td>\n",
       "      <td>326.0</td>\n",
       "    </tr>\n",
       "    <tr>\n",
       "      <td>2019-08-20 23:30:00</td>\n",
       "      <td>0.66266</td>\n",
       "      <td>0.66281</td>\n",
       "      <td>0.66253</td>\n",
       "      <td>0.66256</td>\n",
       "      <td>192.0</td>\n",
       "    </tr>\n",
       "    <tr>\n",
       "      <td>2019-08-20 23:45:00</td>\n",
       "      <td>0.66254</td>\n",
       "      <td>0.66264</td>\n",
       "      <td>0.66225</td>\n",
       "      <td>0.66252</td>\n",
       "      <td>312.0</td>\n",
       "    </tr>\n",
       "  </tbody>\n",
       "</table>\n",
       "<p>2112 rows × 5 columns</p>\n",
       "</div>"
      ],
      "text/plain": [
       "                        Open     High      Low    Close  Volume\n",
       "Timestamp                                                      \n",
       "2019-07-22 00:00:00  0.69208  0.69241  0.69173  0.69213    58.0\n",
       "2019-07-22 00:15:00  0.69208  0.69240  0.69124  0.69203   187.0\n",
       "2019-07-22 00:30:00  0.69209  0.69253  0.69167  0.69171   411.0\n",
       "2019-07-22 00:45:00  0.69199  0.69232  0.69143  0.69185   182.0\n",
       "2019-07-22 01:00:00  0.69209  0.69222  0.69142  0.69153   267.0\n",
       "...                      ...      ...      ...      ...     ...\n",
       "2019-08-20 22:45:00  0.66276  0.66282  0.66254  0.66261   456.0\n",
       "2019-08-20 23:00:00  0.66261  0.66270  0.66250  0.66256   214.0\n",
       "2019-08-20 23:15:00  0.66255  0.66288  0.66254  0.66266   326.0\n",
       "2019-08-20 23:30:00  0.66266  0.66281  0.66253  0.66256   192.0\n",
       "2019-08-20 23:45:00  0.66254  0.66264  0.66225  0.66252   312.0\n",
       "\n",
       "[2112 rows x 5 columns]"
      ]
     },
     "execution_count": 9,
     "metadata": {},
     "output_type": "execute_result"
    }
   ],
   "source": [
    "portfolio[\"AUDCHF\"][Timeframes.M15].df"
   ]
  },
  {
   "cell_type": "markdown",
   "metadata": {},
   "source": [
    "## Symbol information\n",
    "\n",
    "We can load all of the symbol information for all symbols in the portfolio at once using the \n",
    "This information is currently obtained from the MT5, storing it in a csv file with name: \n",
    "- Symbol_info.csv\n"
   ]
  },
  {
   "cell_type": "code",
   "execution_count": 11,
   "metadata": {},
   "outputs": [
    {
     "ename": "AttributeError",
     "evalue": "type object 'Symbol' has no attribute 'load_symbols_properties_from_csv'",
     "output_type": "error",
     "traceback": [
      "\u001b[0;31m---------------------------------------------------------------------------\u001b[0m",
      "\u001b[0;31mAttributeError\u001b[0m                            Traceback (most recent call last)",
      "\u001b[0;32m<ipython-input-11-c6c782b44f02>\u001b[0m in \u001b[0;36m<module>\u001b[0;34m\u001b[0m\n\u001b[0;32m----> 1\u001b[0;31m \u001b[0msymbols_info\u001b[0m \u001b[0;34m=\u001b[0m \u001b[0mSymbol\u001b[0m\u001b[0;34m.\u001b[0m\u001b[0mload_symbols_properties_from_csv\u001b[0m\u001b[0;34m(\u001b[0m\u001b[0mstorage_folder\u001b[0m\u001b[0;34m)\u001b[0m\u001b[0;34m\u001b[0m\u001b[0;34m\u001b[0m\u001b[0m\n\u001b[0m\u001b[1;32m      2\u001b[0m \u001b[0msymbols_info\u001b[0m\u001b[0;34m\u001b[0m\u001b[0;34m\u001b[0m\u001b[0m\n",
      "\u001b[0;31mAttributeError\u001b[0m: type object 'Symbol' has no attribute 'load_symbols_properties_from_csv'"
     ]
    }
   ],
   "source": [
    "symbols_info = Symbol.load_symbols_properties_from_csv(storage_folder)\n",
    "symbols_info"
   ]
  },
  {
   "cell_type": "markdown",
   "metadata": {},
   "source": [
    "## Unwrapping the object\n",
    "\n",
    "The following shows the unwrap of a Velas object. In it, you can appreciate that:\n",
    " - The start and end time of the interval are not stored at symbol level, just at velas level. This allows different timesticks to have different intervals.\n",
    " - The properties object contains all of the static information regarding the symbol, except for the market hours.\n",
    " - The MarketHours object contains the information about open market hours"
   ]
  },
  {
   "cell_type": "code",
   "execution_count": null,
   "metadata": {},
   "outputs": [],
   "source": [
    "unwrap(portfolio, \"symbol\")"
   ]
  },
  {
   "cell_type": "markdown",
   "metadata": {},
   "source": [
    "## Indicators\n",
    "\n",
    "The *Portfolio* class only implements indicators that need several candlestick data at timeframes to be computed. In order to obtain indicators for a given timeframe, use the Velas objects directly. \n",
    "\n",
    "NO INDICATORS IMPLEMENTED SO FAR\n",
    "\n",
    "The interface for accessing"
   ]
  },
  {
   "cell_type": "code",
   "execution_count": null,
   "metadata": {},
   "outputs": [],
   "source": []
  },
  {
   "cell_type": "markdown",
   "metadata": {},
   "source": [
    "## Plottings\n",
    "\n",
    "Like with the indicators, we only implement plotting functions that require different timeframes.\n",
    "\n",
    "NO IMPLEMENTATION SO FAR"
   ]
  },
  {
   "cell_type": "code",
   "execution_count": null,
   "metadata": {},
   "outputs": [],
   "source": []
  }
 ],
 "metadata": {
  "kernelspec": {
   "display_name": "Python 3",
   "language": "python",
   "name": "python3"
  },
  "language_info": {
   "codemirror_mode": {
    "name": "ipython",
    "version": 3
   },
   "file_extension": ".py",
   "mimetype": "text/x-python",
   "name": "python",
   "nbconvert_exporter": "python",
   "pygments_lexer": "ipython3",
   "version": "3.7.4"
  }
 },
 "nbformat": 4,
 "nbformat_minor": 2
}
