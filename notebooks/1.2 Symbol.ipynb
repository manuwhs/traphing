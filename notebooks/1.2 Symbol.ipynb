{
 "cells": [
  {
   "cell_type": "markdown",
   "metadata": {},
   "source": [
    "# Symbol Class\n",
    "\n",
    "This Symbol class provides a basic interface to interact with all the information regarding a given symbol. It contains a set of Velas objects with the symbol's candlestick data at different timeframes. It also provides a similar set functionalities to the Velas class:\n",
    "<ul>   \n",
    "    <li> Loading and saving the raw candlestick data from different sources (.csv, SQL..).</li>\n",
    "    <li> Handling the data updating, missing data, separating trading sessions...</li>\n",
    "    <li> Technical Analysis indicators</li>\n",
    "    <li> Common plots.</li>\n",
    "</ul>    \n"
   ]
  },
  {
   "cell_type": "markdown",
   "metadata": {},
   "source": [
    "### Import libraries\n",
    "We import the needed standard libraries first. Then we add the directory above path to the system so that when import the library, it will load the local version in the folder, instead of the version installed with pip. Finally we load the classes, functions and enums from the library, which we are going to use."
   ]
  },
  {
   "cell_type": "code",
   "execution_count": 1,
   "metadata": {},
   "outputs": [],
   "source": [
    "import datetime as dt\n",
    "import pandas as pd\n",
    "from IPython.display import Image\n",
    "%matplotlib qt \n",
    "\n",
    "from traphing.data_classes import Velas, Symbol\n",
    "from traphing.utils import Timeframes, unwrap\n",
    "from traphing.graph.Gl import gl"
   ]
  },
  {
   "cell_type": "code",
   "execution_count": 33,
   "metadata": {},
   "outputs": [],
   "source": [
    "storage_folder = \"../tests/data/storage\"\n",
    "storage_folder2 = \"../tests/data/storage2\"\n",
    "updates_folder = \"./MT5/MQL5/MQL5/Files/\""
   ]
  },
  {
   "cell_type": "markdown",
   "metadata": {},
   "source": [
    "## Creating a Symbol instance\n",
    "\n",
    "When we create a Symbol object, we need to specify the basic parameters of the symbol data:\n",
    " - <b>symbol_name</b>: The name of the symbol given by the broker we are using (it can be different from broker to broker)\n",
    " -  <b>timeframes</b>: A list with the different timeframes of the candlesticks we want to include.\n",
    "\n",
    "No candlestick data is loaded when creating the object."
   ]
  },
  {
   "cell_type": "code",
   "execution_count": 17,
   "metadata": {},
   "outputs": [
    {
     "name": "stdout",
     "output_type": "stream",
     "text": [
      "<class 'traphing.data_classes._Symbol._Symbol.Symbol'>\n"
     ]
    }
   ],
   "source": [
    "symbol_name = \"AUDCHF\"\n",
    "timeframes = [Timeframes.M15, Timeframes.D1]\n",
    "symbol = Symbol(symbol_name, timeframes)\n",
    "\n",
    "print (type(symbol))"
   ]
  },
  {
   "cell_type": "markdown",
   "metadata": {},
   "source": [
    "The Velas objects are initialized with no candlestick data. They are stored in an internal dictionary where the key is the timeframe and the value is the Velas object. This implementation should be transparent to the usage of the Symbol class. \n",
    "\n",
    "We can access the *Velas* objects inside the *Symbol* instance by their timeframe. We can get the current timeframes in the Symbol object by means of the attribute *timeframes* which has been modify using a *getter* to compute the list dinamically when accessed.\n",
    "\n",
    "We can use the *Symbol* object as a dictionary to get the *Velas* objects."
   ]
  },
  {
   "cell_type": "code",
   "execution_count": 18,
   "metadata": {},
   "outputs": [
    {
     "data": {
      "text/plain": [
       "[<Timeframes.M15: 15>, <Timeframes.D1: 1440>]"
      ]
     },
     "execution_count": 18,
     "metadata": {},
     "output_type": "execute_result"
    }
   ],
   "source": [
    "symbol.timeframes"
   ]
  },
  {
   "cell_type": "code",
   "execution_count": 19,
   "metadata": {},
   "outputs": [
    {
     "data": {
      "text/plain": [
       "<traphing.data_classes._Velas._Velas.Velas at 0x7f447c74d3d0>"
      ]
     },
     "execution_count": 19,
     "metadata": {},
     "output_type": "execute_result"
    }
   ],
   "source": [
    "symbol[Timeframes.M15]"
   ]
  },
  {
   "cell_type": "markdown",
   "metadata": {},
   "source": [
    "### Adding and removing Velas objects\n",
    "\n",
    "We can easily add, and delete velas inside the object using the following methods."
   ]
  },
  {
   "cell_type": "code",
   "execution_count": 20,
   "metadata": {},
   "outputs": [
    {
     "name": "stdout",
     "output_type": "stream",
     "text": [
      "[<Timeframes.M15: 15>, <Timeframes.D1: 1440>, <Timeframes.M5: 5>]\n"
     ]
    }
   ],
   "source": [
    "symbol.add_velas(Timeframes.M5, None)\n",
    "print (symbol.timeframes)"
   ]
  },
  {
   "cell_type": "code",
   "execution_count": 21,
   "metadata": {},
   "outputs": [
    {
     "name": "stdout",
     "output_type": "stream",
     "text": [
      "[<Timeframes.M15: 15>, <Timeframes.D1: 1440>]\n"
     ]
    }
   ],
   "source": [
    "symbol.del_velas(Timeframes.M5)\n",
    "print (symbol.timeframes)"
   ]
  },
  {
   "cell_type": "markdown",
   "metadata": {},
   "source": [
    "## Loading the data from .csv\n",
    "\n",
    "The Symbol class makes it easy to load the candlestick data for all the timeframes at once. It has the same loading functions as the Velas class, which internally call the same function for all of its Velas objects."
   ]
  },
  {
   "cell_type": "code",
   "execution_count": 22,
   "metadata": {},
   "outputs": [],
   "source": [
    "symbol.load_data_from_csv(storage_folder)"
   ]
  },
  {
   "cell_type": "markdown",
   "metadata": {},
   "source": [
    "## Set interval\n",
    "\n",
    "We can set the time interval directly to the symbol object using the same interface as the one for Velas. The interval applied to the *Symbol* is applied to all of its Velas objects."
   ]
  },
  {
   "cell_type": "code",
   "execution_count": 23,
   "metadata": {},
   "outputs": [],
   "source": [
    "start_time = dt.datetime(2019,7,20)\n",
    "end_time = dt.datetime(2019,8,20)\n",
    "\n",
    "symbol.set_time_interval(start_time, end_time, trim = False)"
   ]
  },
  {
   "cell_type": "code",
   "execution_count": 24,
   "metadata": {},
   "outputs": [
    {
     "data": {
      "text/html": [
       "<div>\n",
       "<style scoped>\n",
       "    .dataframe tbody tr th:only-of-type {\n",
       "        vertical-align: middle;\n",
       "    }\n",
       "\n",
       "    .dataframe tbody tr th {\n",
       "        vertical-align: top;\n",
       "    }\n",
       "\n",
       "    .dataframe thead th {\n",
       "        text-align: right;\n",
       "    }\n",
       "</style>\n",
       "<table border=\"1\" class=\"dataframe\">\n",
       "  <thead>\n",
       "    <tr style=\"text-align: right;\">\n",
       "      <th></th>\n",
       "      <th>Open</th>\n",
       "      <th>High</th>\n",
       "      <th>Low</th>\n",
       "      <th>Close</th>\n",
       "      <th>Volume</th>\n",
       "    </tr>\n",
       "    <tr>\n",
       "      <th>Timestamp</th>\n",
       "      <th></th>\n",
       "      <th></th>\n",
       "      <th></th>\n",
       "      <th></th>\n",
       "      <th></th>\n",
       "    </tr>\n",
       "  </thead>\n",
       "  <tbody>\n",
       "    <tr>\n",
       "      <td>2019-07-22 00:00:00</td>\n",
       "      <td>0.69208</td>\n",
       "      <td>0.69241</td>\n",
       "      <td>0.69173</td>\n",
       "      <td>0.69213</td>\n",
       "      <td>58.0</td>\n",
       "    </tr>\n",
       "    <tr>\n",
       "      <td>2019-07-22 00:15:00</td>\n",
       "      <td>0.69208</td>\n",
       "      <td>0.69240</td>\n",
       "      <td>0.69124</td>\n",
       "      <td>0.69203</td>\n",
       "      <td>187.0</td>\n",
       "    </tr>\n",
       "    <tr>\n",
       "      <td>2019-07-22 00:30:00</td>\n",
       "      <td>0.69209</td>\n",
       "      <td>0.69253</td>\n",
       "      <td>0.69167</td>\n",
       "      <td>0.69171</td>\n",
       "      <td>411.0</td>\n",
       "    </tr>\n",
       "    <tr>\n",
       "      <td>2019-07-22 00:45:00</td>\n",
       "      <td>0.69199</td>\n",
       "      <td>0.69232</td>\n",
       "      <td>0.69143</td>\n",
       "      <td>0.69185</td>\n",
       "      <td>182.0</td>\n",
       "    </tr>\n",
       "    <tr>\n",
       "      <td>2019-07-22 01:00:00</td>\n",
       "      <td>0.69209</td>\n",
       "      <td>0.69222</td>\n",
       "      <td>0.69142</td>\n",
       "      <td>0.69153</td>\n",
       "      <td>267.0</td>\n",
       "    </tr>\n",
       "  </tbody>\n",
       "</table>\n",
       "</div>"
      ],
      "text/plain": [
       "                        Open     High      Low    Close  Volume\n",
       "Timestamp                                                      \n",
       "2019-07-22 00:00:00  0.69208  0.69241  0.69173  0.69213    58.0\n",
       "2019-07-22 00:15:00  0.69208  0.69240  0.69124  0.69203   187.0\n",
       "2019-07-22 00:30:00  0.69209  0.69253  0.69167  0.69171   411.0\n",
       "2019-07-22 00:45:00  0.69199  0.69232  0.69143  0.69185   182.0\n",
       "2019-07-22 01:00:00  0.69209  0.69222  0.69142  0.69153   267.0"
      ]
     },
     "execution_count": 24,
     "metadata": {},
     "output_type": "execute_result"
    }
   ],
   "source": [
    "symbol[Timeframes.M15].df.head(5)"
   ]
  },
  {
   "cell_type": "code",
   "execution_count": 25,
   "metadata": {},
   "outputs": [
    {
     "data": {
      "text/html": [
       "<div>\n",
       "<style scoped>\n",
       "    .dataframe tbody tr th:only-of-type {\n",
       "        vertical-align: middle;\n",
       "    }\n",
       "\n",
       "    .dataframe tbody tr th {\n",
       "        vertical-align: top;\n",
       "    }\n",
       "\n",
       "    .dataframe thead th {\n",
       "        text-align: right;\n",
       "    }\n",
       "</style>\n",
       "<table border=\"1\" class=\"dataframe\">\n",
       "  <thead>\n",
       "    <tr style=\"text-align: right;\">\n",
       "      <th></th>\n",
       "      <th>Open</th>\n",
       "      <th>High</th>\n",
       "      <th>Low</th>\n",
       "      <th>Close</th>\n",
       "      <th>Volume</th>\n",
       "    </tr>\n",
       "    <tr>\n",
       "      <th>Timestamp</th>\n",
       "      <th></th>\n",
       "      <th></th>\n",
       "      <th></th>\n",
       "      <th></th>\n",
       "      <th></th>\n",
       "    </tr>\n",
       "  </thead>\n",
       "  <tbody>\n",
       "    <tr>\n",
       "      <td>2019-07-22</td>\n",
       "      <td>0.69208</td>\n",
       "      <td>0.69299</td>\n",
       "      <td>0.69035</td>\n",
       "      <td>0.69067</td>\n",
       "      <td>45803.0</td>\n",
       "    </tr>\n",
       "    <tr>\n",
       "      <td>2019-07-23</td>\n",
       "      <td>0.69067</td>\n",
       "      <td>0.69213</td>\n",
       "      <td>0.68852</td>\n",
       "      <td>0.68991</td>\n",
       "      <td>52588.0</td>\n",
       "    </tr>\n",
       "    <tr>\n",
       "      <td>2019-07-24</td>\n",
       "      <td>0.68991</td>\n",
       "      <td>0.69014</td>\n",
       "      <td>0.68677</td>\n",
       "      <td>0.68678</td>\n",
       "      <td>54249.0</td>\n",
       "    </tr>\n",
       "    <tr>\n",
       "      <td>2019-07-25</td>\n",
       "      <td>0.68680</td>\n",
       "      <td>0.69041</td>\n",
       "      <td>0.68601</td>\n",
       "      <td>0.68844</td>\n",
       "      <td>67797.0</td>\n",
       "    </tr>\n",
       "    <tr>\n",
       "      <td>2019-07-26</td>\n",
       "      <td>0.68854</td>\n",
       "      <td>0.68894</td>\n",
       "      <td>0.68565</td>\n",
       "      <td>0.68609</td>\n",
       "      <td>48966.0</td>\n",
       "    </tr>\n",
       "  </tbody>\n",
       "</table>\n",
       "</div>"
      ],
      "text/plain": [
       "               Open     High      Low    Close   Volume\n",
       "Timestamp                                              \n",
       "2019-07-22  0.69208  0.69299  0.69035  0.69067  45803.0\n",
       "2019-07-23  0.69067  0.69213  0.68852  0.68991  52588.0\n",
       "2019-07-24  0.68991  0.69014  0.68677  0.68678  54249.0\n",
       "2019-07-25  0.68680  0.69041  0.68601  0.68844  67797.0\n",
       "2019-07-26  0.68854  0.68894  0.68565  0.68609  48966.0"
      ]
     },
     "execution_count": 25,
     "metadata": {},
     "output_type": "execute_result"
    }
   ],
   "source": [
    "symbol[Timeframes.D1].df.head(5)"
   ]
  },
  {
   "cell_type": "markdown",
   "metadata": {},
   "source": [
    "## Symbol properties\n",
    "\n",
    "There is a set of information that we need from the symbol.\n",
    "\n",
    "This information is currently obtained from the MT5, storing it in a csv file with name: \n",
    "- symbols_properties.csv\n"
   ]
  },
  {
   "cell_type": "code",
   "execution_count": 26,
   "metadata": {},
   "outputs": [
    {
     "data": {
      "text/html": [
       "<div>\n",
       "<style scoped>\n",
       "    .dataframe tbody tr th:only-of-type {\n",
       "        vertical-align: middle;\n",
       "    }\n",
       "\n",
       "    .dataframe tbody tr th {\n",
       "        vertical-align: top;\n",
       "    }\n",
       "\n",
       "    .dataframe thead th {\n",
       "        text-align: right;\n",
       "    }\n",
       "</style>\n",
       "<table border=\"1\" class=\"dataframe\">\n",
       "  <thead>\n",
       "    <tr style=\"text-align: right;\">\n",
       "      <th></th>\n",
       "      <th>point_size</th>\n",
       "      <th>min_tick_value</th>\n",
       "      <th>contract_size</th>\n",
       "      <th>currency</th>\n",
       "    </tr>\n",
       "    <tr>\n",
       "      <th>symbol_name</th>\n",
       "      <th></th>\n",
       "      <th></th>\n",
       "      <th></th>\n",
       "      <th></th>\n",
       "    </tr>\n",
       "  </thead>\n",
       "  <tbody>\n",
       "    <tr>\n",
       "      <td>EURUSD</td>\n",
       "      <td>0.00001</td>\n",
       "      <td>1.000000</td>\n",
       "      <td>100000.0</td>\n",
       "      <td>EUR</td>\n",
       "    </tr>\n",
       "    <tr>\n",
       "      <td>GBPUSD</td>\n",
       "      <td>0.00001</td>\n",
       "      <td>1.000000</td>\n",
       "      <td>100000.0</td>\n",
       "      <td>GBP</td>\n",
       "    </tr>\n",
       "    <tr>\n",
       "      <td>USDCHF</td>\n",
       "      <td>0.00001</td>\n",
       "      <td>1.005288</td>\n",
       "      <td>100000.0</td>\n",
       "      <td>USD</td>\n",
       "    </tr>\n",
       "    <tr>\n",
       "      <td>USDJPY</td>\n",
       "      <td>0.00100</td>\n",
       "      <td>0.920116</td>\n",
       "      <td>100000.0</td>\n",
       "      <td>USD</td>\n",
       "    </tr>\n",
       "    <tr>\n",
       "      <td>USDCNH</td>\n",
       "      <td>0.00001</td>\n",
       "      <td>0.141807</td>\n",
       "      <td>100000.0</td>\n",
       "      <td>USD</td>\n",
       "    </tr>\n",
       "    <tr>\n",
       "      <td>...</td>\n",
       "      <td>...</td>\n",
       "      <td>...</td>\n",
       "      <td>...</td>\n",
       "      <td>...</td>\n",
       "    </tr>\n",
       "    <tr>\n",
       "      <td>NZDCHF</td>\n",
       "      <td>0.00001</td>\n",
       "      <td>1.005288</td>\n",
       "      <td>100000.0</td>\n",
       "      <td>NZD</td>\n",
       "    </tr>\n",
       "    <tr>\n",
       "      <td>NZDJPY</td>\n",
       "      <td>0.00100</td>\n",
       "      <td>0.920116</td>\n",
       "      <td>100000.0</td>\n",
       "      <td>NZD</td>\n",
       "    </tr>\n",
       "    <tr>\n",
       "      <td>NZDSGD</td>\n",
       "      <td>0.00001</td>\n",
       "      <td>0.733337</td>\n",
       "      <td>100000.0</td>\n",
       "      <td>NZD</td>\n",
       "    </tr>\n",
       "    <tr>\n",
       "      <td>SGDJPY</td>\n",
       "      <td>0.00100</td>\n",
       "      <td>0.920116</td>\n",
       "      <td>100000.0</td>\n",
       "      <td>SGD</td>\n",
       "    </tr>\n",
       "    <tr>\n",
       "      <td>USDGEL</td>\n",
       "      <td>0.00010</td>\n",
       "      <td>3.729673</td>\n",
       "      <td>100000.0</td>\n",
       "      <td>USD</td>\n",
       "    </tr>\n",
       "  </tbody>\n",
       "</table>\n",
       "<p>64 rows × 4 columns</p>\n",
       "</div>"
      ],
      "text/plain": [
       "             point_size  min_tick_value  contract_size currency\n",
       "symbol_name                                                    \n",
       "EURUSD          0.00001        1.000000       100000.0      EUR\n",
       "GBPUSD          0.00001        1.000000       100000.0      GBP\n",
       "USDCHF          0.00001        1.005288       100000.0      USD\n",
       "USDJPY          0.00100        0.920116       100000.0      USD\n",
       "USDCNH          0.00001        0.141807       100000.0      USD\n",
       "...                 ...             ...            ...      ...\n",
       "NZDCHF          0.00001        1.005288       100000.0      NZD\n",
       "NZDJPY          0.00100        0.920116       100000.0      NZD\n",
       "NZDSGD          0.00001        0.733337       100000.0      NZD\n",
       "SGDJPY          0.00100        0.920116       100000.0      SGD\n",
       "USDGEL          0.00010        3.729673       100000.0      USD\n",
       "\n",
       "[64 rows x 4 columns]"
      ]
     },
     "execution_count": 26,
     "metadata": {},
     "output_type": "execute_result"
    }
   ],
   "source": [
    "symbols_properties_df = Symbol.load_symbols_properties_csv(storage_folder)\n",
    "symbols_properties_df"
   ]
  },
  {
   "cell_type": "markdown",
   "metadata": {},
   "source": [
    "We can also save the file to disk:"
   ]
  },
  {
   "cell_type": "code",
   "execution_count": 28,
   "metadata": {},
   "outputs": [],
   "source": [
    "Symbol.save_symbols_properties_to_csv(storage_folder2,symbols_properties_df)"
   ]
  },
  {
   "cell_type": "markdown",
   "metadata": {},
   "source": [
    "In order to load the information to the Symbol's SymbolProperties object, we use the method:"
   ]
  },
  {
   "cell_type": "code",
   "execution_count": 29,
   "metadata": {},
   "outputs": [
    {
     "name": "stdout",
     "output_type": "stream",
     "text": [
      "<SymbolProperties>\tobject has children:\n",
      "    <str>\tsymbol_name:\tAUDCHF\n",
      "    <NoneType>\ttype:\tNone\n",
      "    <NoneType>\tcountry:\tNone\n",
      "    <str>\tcurrency:\tAUD\n",
      "    <NoneType>\tsector:\tNone\n",
      "    <float>\tcontract_size:\t100000.0\n",
      "    <float>\tpoint_size:\t1e-05\n",
      "    <float>\tmin_tick_value:\t1.00528781\n",
      "\n",
      "\n"
     ]
    }
   ],
   "source": [
    "symbol.load_properties_from_df(symbols_properties_df)\n",
    "unwrap(symbol.properties)"
   ]
  },
  {
   "cell_type": "markdown",
   "metadata": {},
   "source": [
    "## Market Hours\n",
    "\n",
    "TODO: Explained class its own notebook.\n",
    "The Symbol class contains an instance and interface for the most common operations such as:\n",
    "- Estimating the open and close Market hours.\n",
    "- Obtaining the samples organized by trading sessions."
   ]
  },
  {
   "cell_type": "code",
   "execution_count": 30,
   "metadata": {},
   "outputs": [],
   "source": [
    "symbol.estimate_market_hours()"
   ]
  },
  {
   "cell_type": "markdown",
   "metadata": {},
   "source": [
    "## Unwrapping the object\n",
    "\n",
    "The following shows the unwrap of a Symbol object. In it, you can appreciate that:\n",
    " - The start and end time of the interval are not stored at *Symbol* level, but only at *Velas* level. This allows different timesticks to have different intervals.\n",
    " - The properties object contains all of the static information regarding the symbol, except for the market hours.\n",
    " - The MarketHours object contains the information about open market hours"
   ]
  },
  {
   "cell_type": "code",
   "execution_count": 31,
   "metadata": {
    "scrolled": false
   },
   "outputs": [
    {
     "name": "stdout",
     "output_type": "stream",
     "text": [
      "<Symbol>\tsymbol has children:\n",
      "    <str>\tsymbol_name:\tAUDCHF\n",
      "    <dict>\t_velas_dict\n",
      "    <SymbolProperties>\tproperties\n",
      "    <MarketHours>\tmarket_hours\n",
      "    <datetime>\tstart_time:\t2019-07-20 00:00:00\n",
      "    <datetime>\tend_time:\t2019-08-20 00:00:00\n",
      "\n",
      "  <MarketHours>\tmarket_hours has children:\n",
      "      <time>\topen_time:\t00:00:00\n",
      "      <time>\tclose_time:\t00:00:00\n",
      "      <list>\ttrading_days_list\n",
      "      <dict>\tspecial_days_dict\n",
      "\n",
      "    <dict>\tspecial_days_dict has children:\n",
      "\n",
      "    <list>\ttrading_days_list has children:\n",
      "        <int>\ttrading_days_list[0]:\t0\n",
      "        <int>\ttrading_days_list[1]:\t1\n",
      "        <int>\ttrading_days_list[2]:\t2\n",
      "        <int>\ttrading_days_list[3]:\t3\n",
      "        <int>\ttrading_days_list[4]:\t4\n",
      "\n",
      "  <SymbolProperties>\tproperties has children:\n",
      "      <str>\tsymbol_name:\tAUDCHF\n",
      "      <NoneType>\ttype:\tNone\n",
      "      <NoneType>\tcountry:\tNone\n",
      "      <str>\tcurrency:\tAUD\n",
      "      <NoneType>\tsector:\tNone\n",
      "      <float>\tcontract_size:\t100000.0\n",
      "      <float>\tpoint_size:\t1e-05\n",
      "      <float>\tmin_tick_value:\t1.00528781\n",
      "\n",
      "  <dict>\t_velas_dict has children:\n",
      "      <Velas>\tTimeframes.M15\n",
      "      <Velas>\tTimeframes.D1\n",
      "\n",
      "    <Velas>\tTimeframes.D1 has children:\n",
      "        <str>\tsymbol_name:\tAUDCHF\n",
      "        <Timeframes>\ttimeframe:\tTimeframes.D1\n",
      "        <Timestamp>\tstart_time:\t2019-07-20 00:00:00\n",
      "        <Timestamp>\tend_time:\t2019-08-20 00:00:00\n",
      "        <ndarray>\t_time_mask:\t[4864 4865 4866 4867 4868 4869 4870 4871\n",
      "        <DataFrame>\t_df\n",
      "        <bool>\t_trimmed:\tFalse\n",
      "\n",
      "      <DataFrame>\t_df has children:\n",
      "          <str>\tcolumns:\t['Open', 'High', 'Low', 'Close', 'Volume\n",
      "          <DatetimeIndex>\tindex:\tDatetimeIndex(['2000-06-29', '2000-06-30\n",
      "\n",
      "    <Velas>\tTimeframes.M15 has children:\n",
      "        <str>\tsymbol_name:\tAUDCHF\n",
      "        <Timeframes>\ttimeframe:\tTimeframes.M15\n",
      "        <Timestamp>\tstart_time:\t2019-07-20 00:00:00\n",
      "        <Timestamp>\tend_time:\t2019-08-20 00:00:00\n",
      "        <ndarray>\t_time_mask:\t[97532 97533 97534 ... 99641 99642 99643\n",
      "        <DataFrame>\t_df\n",
      "        <bool>\t_trimmed:\tFalse\n",
      "\n",
      "      <DataFrame>\t_df has children:\n",
      "          <str>\tcolumns:\t['Open', 'High', 'Low', 'Close', 'Volume\n",
      "          <DatetimeIndex>\tindex:\tDatetimeIndex(['2015-08-14 23:45:00', '2\n",
      "\n",
      "\n"
     ]
    }
   ],
   "source": [
    "unwrap(symbol, \"symbol\")"
   ]
  },
  {
   "cell_type": "markdown",
   "metadata": {},
   "source": [
    "## Indicators\n",
    "\n",
    "The Symbol class only implements indicators that need several candlestick data at timeframes to be computed. In order to obtain indicators for a given timeframe, use the Velas objects directly. \n",
    "\n",
    "NO INDICATORS IMPLEMENTED SO FAR\n",
    "\n",
    "The interface for accessing"
   ]
  },
  {
   "cell_type": "code",
   "execution_count": null,
   "metadata": {},
   "outputs": [],
   "source": []
  },
  {
   "cell_type": "markdown",
   "metadata": {},
   "source": [
    "## Plottings\n",
    "\n",
    "Like with the indicators, we only implement plotting functions that require different timeframes.\n",
    "\n",
    "NO IMPLEMENTATION SO FAR"
   ]
  },
  {
   "cell_type": "code",
   "execution_count": null,
   "metadata": {},
   "outputs": [],
   "source": []
  }
 ],
 "metadata": {
  "kernelspec": {
   "display_name": "Python 3",
   "language": "python",
   "name": "python3"
  },
  "language_info": {
   "codemirror_mode": {
    "name": "ipython",
    "version": 3
   },
   "file_extension": ".py",
   "mimetype": "text/x-python",
   "name": "python",
   "nbconvert_exporter": "python",
   "pygments_lexer": "ipython3",
   "version": "3.7.4"
  }
 },
 "nbformat": 4,
 "nbformat_minor": 2
}
