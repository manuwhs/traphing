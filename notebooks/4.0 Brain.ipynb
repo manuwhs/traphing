{
 "cells": [
  {
   "cell_type": "markdown",
   "metadata": {},
   "source": [
    "# The Brain class\n",
    "\n",
    "The Colliseum class is in charged of "
   ]
  },
  {
   "cell_type": "code",
   "execution_count": 8,
   "metadata": {},
   "outputs": [],
   "source": [
    "import datetime as dt\n",
    "import pandas as pd\n",
    "import numpy as np\n",
    "import matplotlib.pyplot as plt \n",
    "from IPython.display import Image\n",
    "%matplotlib qt\n",
    "\n",
    "import sys\n",
    "sys.path.insert(0, \"..\")  # Adds higher directory to python modules path.\n",
    "\n",
    "from traphing.data_classes import Velas, Portfolio\n",
    "from traphing import Brain\n",
    "from traphing.strategies import Trade, Coliseum\n",
    "from traphing.strategies.entry import EntryStrategy, CrossingMovingAverages\n",
    "from traphing.strategies.exit import ExitStrategy, StopLoss\n",
    "\n",
    "from traphing.utils import Timeframes, unwrap\n",
    "import traphing.utils  as ul\n",
    "\n",
    "from traphing.graph.Gl import gl\n",
    "\n",
    "folder_images = \"./images/python_generated/strategies/\""
   ]
  },
  {
   "cell_type": "markdown",
   "metadata": {},
   "source": [
    "## Setting up a portfolio\n",
    "\n",
    "Strategies work on porfolio objects, they are part of them.\n"
   ]
  },
  {
   "cell_type": "code",
   "execution_count": 9,
   "metadata": {},
   "outputs": [
    {
     "name": "stdout",
     "output_type": "stream",
     "text": [
      "Size ../tests/data/storage/M15/AUDCHF_M15.csv:  100400  rows\n"
     ]
    }
   ],
   "source": [
    "symbol_names_list = [\"AUDCHF\"]\n",
    "timeframes_list = [Timeframes.M15]\n",
    "portfolio_name = \"my_portfolio\"\n",
    "\n",
    "storage_folder = \"../tests/data/storage/\"\n",
    "\n",
    "portfolio = Portfolio(portfolio_name, symbol_names_list, timeframes_list)\n",
    "portfolio.load_data_from_csv(storage_folder)\n",
    "\n",
    "start_time = dt.datetime(2019,7,20); end_time = dt.datetime(2019,7,25)\n",
    "portfolio.set_time_interval(start_time,end_time)"
   ]
  },
  {
   "cell_type": "markdown",
   "metadata": {},
   "source": [
    "## Create a Coliseum object with two entry trading strategies"
   ]
  },
  {
   "cell_type": "code",
   "execution_count": 10,
   "metadata": {},
   "outputs": [],
   "source": [
    "timeframe = timeframes_list[0]\n",
    "symbol_name = symbol_names_list[0]\n",
    "# First entry strategy\n",
    "entry_strategy1 = CrossingMovingAverages(\"Crossing averages 1\", portfolio)\n",
    "symbol_name = symbol_names_list[0]\n",
    "slow_MA_params = {\"symbol_name\":symbol_name,\"timeframe\": timeframe,\"indicator_name\":\"SMA\", \"args\": {\"n\":45}}\n",
    "fast_MA_params = {\"symbol_name\":symbol_name,\"timeframe\": timeframe,\"indicator_name\":\"SMA\", \"args\":{\"n\":20}}\n",
    "entry_strategy1.set_slow_MA(slow_MA_params)\n",
    "entry_strategy1.set_fast_MA(fast_MA_params)\n",
    "\n",
    "# Second entry strategy\n",
    "entry_strategy2 = CrossingMovingAverages(\"Crossing averages 2\", portfolio)\n",
    "slow_MA_params = {\"symbol_name\":symbol_name,\"timeframe\": timeframe,\"indicator_name\":\"SMA\", \"args\": {\"n\":50}}\n",
    "fast_MA_params = {\"symbol_name\":symbol_name,\"timeframe\": timeframe,\"indicator_name\":\"SMA\", \"args\":{\"n\":10}}\n",
    "entry_strategy2.set_slow_MA(slow_MA_params)\n",
    "entry_strategy2.set_fast_MA(fast_MA_params)\n",
    "\n",
    "coliseum = Coliseum()\n",
    "coliseum.add_entry_strategy(entry_strategy1)\n",
    "coliseum.add_entry_strategy(entry_strategy2)"
   ]
  },
  {
   "cell_type": "markdown",
   "metadata": {},
   "source": [
    "# The Brain Class\n",
    "\n",
    "The Coliseum Class contains all the Entry and Exit strategies."
   ]
  },
  {
   "cell_type": "code",
   "execution_count": 11,
   "metadata": {},
   "outputs": [],
   "source": [
    "brain = Brain(coliseum, portfolio)"
   ]
  },
  {
   "cell_type": "code",
   "execution_count": 12,
   "metadata": {},
   "outputs": [
    {
     "name": "stdout",
     "output_type": "stream",
     "text": [
      "<traphing.strategies.entry._EntryRequest.EntryRequest object at 0x7f4bada034d0>\n",
      "<traphing.strategies.entry._EntryRequest.EntryRequest object at 0x7f4bacc57790>\n",
      "<traphing.strategies.entry._EntryRequest.EntryRequest object at 0x7f4bada13410>\n",
      "<traphing.strategies.entry._EntryRequest.EntryRequest object at 0x7f4bac01be10>\n",
      "<traphing.strategies.exit._ExitRequest.ExitRequest object at 0x7f4bad9df450>\n",
      "<traphing.strategies.entry._EntryRequest.EntryRequest object at 0x7f4bada13090>\n",
      "<traphing.strategies.exit._ExitRequest.ExitRequest object at 0x7f4bac084a50>\n",
      "<traphing.strategies.exit._ExitRequest.ExitRequest object at 0x7f4bac0a67d0>\n",
      "<traphing.strategies.exit._ExitRequest.ExitRequest object at 0x7f4bada13050>\n",
      "<traphing.strategies.entry._EntryRequest.EntryRequest object at 0x7f4bada03f90>\n",
      "<traphing.strategies.exit._ExitRequest.ExitRequest object at 0x7f4ba579f710>\n",
      "<traphing.strategies.entry._EntryRequest.EntryRequest object at 0x7f4bacc575d0>\n",
      "<traphing.strategies.exit._ExitRequest.ExitRequest object at 0x7f4bac05bd90>\n",
      "<traphing.strategies.entry._EntryRequest.EntryRequest object at 0x7f4bac020450>\n",
      "<traphing.strategies.entry._EntryRequest.EntryRequest object at 0x7f4bada13810>\n",
      "<traphing.strategies.exit._ExitRequest.ExitRequest object at 0x7f4bad9df890>\n",
      "<traphing.strategies.entry._EntryRequest.EntryRequest object at 0x7f4bada13c90>\n",
      "<traphing.strategies.exit._ExitRequest.ExitRequest object at 0x7f4ba510ac50>\n",
      "<traphing.strategies.entry._EntryRequest.EntryRequest object at 0x7f4bada13710>\n",
      "<traphing.strategies.entry._EntryRequest.EntryRequest object at 0x7f4bada03e10>\n",
      "<traphing.strategies.exit._ExitRequest.ExitRequest object at 0x7f4ba579f710>\n",
      "<traphing.strategies.exit._ExitRequest.ExitRequest object at 0x7f4bac0171d0>\n"
     ]
    }
   ],
   "source": [
    "brain.backtest()"
   ]
  },
  {
   "cell_type": "code",
   "execution_count": 13,
   "metadata": {},
   "outputs": [
    {
     "data": {
      "text/plain": [
       "12"
      ]
     },
     "execution_count": 13,
     "metadata": {},
     "output_type": "execute_result"
    }
   ],
   "source": [
    "brain.coliseum.compute_requests_queue().qsize()"
   ]
  },
  {
   "cell_type": "code",
   "execution_count": null,
   "metadata": {},
   "outputs": [],
   "source": [
    "image_name = \"entry_and_exit.png\"; img_path = folder_images + image_name\n",
    "gl.init_figure()\n",
    "\n",
    "n_strategies = len(coliseum.entry_strategies_ids_list)\n",
    "\n",
    "n_rows, n_cols = n_strategies*2,1; size_inches = [12, 8]\n",
    "ax = None; axes_list = []\n",
    "for i in range(n_strategies*2):\n",
    "    ax = gl.subplot2grid((n_rows, n_cols),(i,0), sharex = ax)\n",
    "    axes_list.append(ax)\n",
    "    \n",
    "i = 0\n",
    "for strategy_id in coliseum.entry_strategies_ids_list:\n",
    "    ax1 = axes_list[i*2]; ax2 = axes_list[i*2+1]\n",
    "    entry_strategy = coliseum.get_entry_strategy(strategy_id)\n",
    "    entry_strategy_series = entry_strategy.compute_strategy_series()\n",
    "    entry_series = entry_strategy.compute_entry_series()\n",
    "\n",
    "    portfolio[symbol_name][timeframe].plot_barchart(axes = ax1, labels = [\"\", \"\", strategy_id])\n",
    "    gl.plot(entry_strategy_series.index, entry_strategy_series, legend = list(entry_strategy_series.columns), axes =ax1)\n",
    "\n",
    "    gl.stem(entry_strategy_series.index,entry_series, axes = ax2, legend = \"Trades\")\n",
    "\n",
    "    i = i+1\n",
    "gl.subplots_adjust(left=.09, bottom=.10, right=.90, top=.95, wspace=.20, hspace=0, hide_xaxis = True)\n",
    "\n",
    "gl.save_figure(img_path, dpi = 100, size_inches = size_inches, close = True)\n",
    "Image(img_path)"
   ]
  },
  {
   "cell_type": "code",
   "execution_count": null,
   "metadata": {},
   "outputs": [],
   "source": []
  }
 ],
 "metadata": {
  "kernelspec": {
   "display_name": "Python 3",
   "language": "python",
   "name": "python3"
  },
  "language_info": {
   "codemirror_mode": {
    "name": "ipython",
    "version": 3
   },
   "file_extension": ".py",
   "mimetype": "text/x-python",
   "name": "python",
   "nbconvert_exporter": "python",
   "pygments_lexer": "ipython3",
   "version": "3.7.4"
  }
 },
 "nbformat": 4,
 "nbformat_minor": 2
}
