{
 "cells": [
  {
   "cell_type": "markdown",
   "metadata": {},
   "source": [
    "# Entry strategies\n",
    "\n",
    "The logic to get into a trade is usually different to the one to exit:\n",
    "- We enter because we have some certainty \n",
    "- We exit if the signal did not evolve as expected. \n",
    "\n",
    "So the strategies are divided into these 2 types"
   ]
  },
  {
   "cell_type": "code",
   "execution_count": 1,
   "metadata": {},
   "outputs": [],
   "source": [
    "import datetime as dt\n",
    "import pandas as pd\n",
    "import numpy as np\n",
    "import matplotlib.pyplot as plt \n",
    "from IPython.display import Image\n",
    "%matplotlib qt\n",
    "\n",
    "import sys\n",
    "sys.path.insert(0, \"..\")  # Adds higher directory to python modules path.\n",
    "\n",
    "from traphing.data_classes import Velas, Portfolio\n",
    "from traphing.strategies import Trade\n",
    "from traphing.strategies.entry import EntryStrategy, CrossingMovingAverages\n",
    "\n",
    "from traphing.utils import Timeframes, unwrap\n",
    "import traphing.utils  as ul\n",
    "\n",
    "from traphing.graph.Gl import gl\n",
    "\n",
    "folder_images = \"./images/python_generated/strategies/\""
   ]
  },
  {
   "cell_type": "markdown",
   "metadata": {},
   "source": [
    "## Setting up a portfolio\n",
    "\n",
    "Strategies work on porfolio objects, they are part of them.\n"
   ]
  },
  {
   "cell_type": "code",
   "execution_count": 2,
   "metadata": {},
   "outputs": [
    {
     "name": "stdout",
     "output_type": "stream",
     "text": [
      "Size ../tests/data/storage/M15/AUDCHF_M15.csv:  100400  rows\n"
     ]
    }
   ],
   "source": [
    "symbol_names_list = [\"AUDCHF\"]\n",
    "timeframes_list = [Timeframes.M15]\n",
    "portfolio_name = \"my_portfolio\"\n",
    "\n",
    "storage_folder = \"../tests/data/storage/\"\n",
    "\n",
    "portfolio = Portfolio(portfolio_name, symbol_names_list, timeframes_list)\n",
    "portfolio.load_data_from_csv(storage_folder)\n",
    "\n",
    "start_time = dt.datetime(2019,7,20); end_time = dt.datetime(2019,7,25)\n",
    "portfolio.set_time_interval(start_time,end_time)"
   ]
  },
  {
   "cell_type": "markdown",
   "metadata": {},
   "source": [
    "# EntryStrategy class\n",
    "\n",
    "The Velas class provides a basic interface to interact with the OCHLV candlesticks from Technical Analysis data. An object of this class contains the candlestick data for a given symbol and timeframe in a pandas dataframe; and implements a set of functionalities:\n",
    "<ul>   \n",
    "    <li> Loading and saving the raw candlestick data from different sources (CSV, SQL..).</li>\n",
    "    <li> Handling the data updating, missing data, separating trading sessions...</li>\n",
    "    <li> Technical Analysis indicators: returns, MAs, oscillators...</li>\n",
    "    <li> Common plots.</li>\n",
    "</ul>    "
   ]
  },
  {
   "cell_type": "markdown",
   "metadata": {},
   "source": [
    "## Crossing Moving Averages Entry Strategy\n",
    "\n",
    "A classic, in this strategy, we compute two MAs of the CLOSE price:\n",
    " - The slow MA: \n",
    " - The fast MA: The current trend of the market."
   ]
  },
  {
   "cell_type": "markdown",
   "metadata": {},
   "source": [
    "### Instanciating the object\n",
    "\n",
    "The only mandatory argument is the id, used to reference the signals created by the strategy."
   ]
  },
  {
   "cell_type": "code",
   "execution_count": 3,
   "metadata": {},
   "outputs": [],
   "source": [
    "entry_strategy = CrossingMovingAverages(\"Crossing averages 1\", portfolio)"
   ]
  },
  {
   "cell_type": "markdown",
   "metadata": {},
   "source": [
    "### Setting the strategy parameters\n",
    "\n",
    "We need to establish the parameters of its MA.\n",
    "\n",
    "No signal is computed, this information will allow the system to compute it in the future."
   ]
  },
  {
   "cell_type": "code",
   "execution_count": 4,
   "metadata": {},
   "outputs": [],
   "source": [
    "symbol_name = symbol_names_list[0]\n",
    "timeframe = timeframes_list[0]\n",
    "\n",
    "# Set the paramters\n",
    "slow_MA_params = {\"symbol_name\":symbol_name,\"timeframe\": timeframe,\"indicator_name\":\"SMA\", \"args\": {\"n\":45}}\n",
    "fast_MA_params = {\"symbol_name\":symbol_name,\"timeframe\": timeframe,\"indicator_name\":\"SMA\", \"args\":{\"n\":20}}\n",
    "\n",
    "entry_strategy.set_slow_MA(slow_MA_params)\n",
    "entry_strategy.set_fast_MA(fast_MA_params)"
   ]
  },
  {
   "cell_type": "markdown",
   "metadata": {},
   "source": [
    "## Unwrapping the object"
   ]
  },
  {
   "cell_type": "code",
   "execution_count": 5,
   "metadata": {},
   "outputs": [
    {
     "name": "stdout",
     "output_type": "stream",
     "text": [
      "<CrossingMovingAverages>\tobject has children:\n",
      "    <str>\tstrategy_id:\tCrossing averages 1\n",
      "    <Portfolio>\tportfolio\n",
      "    <NoneType>\tsignal_params_list:\tNone\n",
      "    <int>\tentry_requests_counter:\t0\n",
      "    <PriorityQueue>\tqueue\n",
      "    <list>\tseries_names\n",
      "    <dict>\tslow_MA\n",
      "    <dict>\tfast_MA\n",
      "\n",
      "  <dict>\tfast_MA has children:\n",
      "      <str>\tsymbol_name:\tAUDCHF\n",
      "      <Timeframes>\ttimeframe:\tTimeframes.M15\n",
      "      <str>\tindicator_name:\tSMA\n",
      "      <dict>\targs\n",
      "\n",
      "    <dict>\targs has children:\n",
      "        <int>\tn:\t20\n",
      "\n",
      "  <dict>\tslow_MA has children:\n",
      "      <str>\tsymbol_name:\tAUDCHF\n",
      "      <Timeframes>\ttimeframe:\tTimeframes.M15\n",
      "      <str>\tindicator_name:\tSMA\n",
      "      <dict>\targs\n",
      "\n",
      "    <dict>\targs has children:\n",
      "        <int>\tn:\t45\n",
      "\n",
      "  <list>\tseries_names has children:\n",
      "      <str>\tseries_names[0]:\tslow_MA\n",
      "      <str>\tseries_names[1]:\tfast_MA\n",
      "\n",
      "  <PriorityQueue>\tqueue has children:\n",
      "      <int>\tmaxsize:\t0\n",
      "      <list>\tqueue\n",
      "      <lock>\tmutex\n",
      "      <Condition>\tnot_empty\n",
      "      <Condition>\tnot_full\n",
      "      <Condition>\tall_tasks_done\n",
      "      <int>\tunfinished_tasks:\t0\n",
      "\n",
      "    <Condition>\tall_tasks_done has children:\n",
      "        <lock>\t_lock\n",
      "        <lock>\t_lock\n",
      "        <lock>\t_lock\n",
      "        <deque>\t_waiters\n",
      "\n",
      "      <deque>\t_waiters has children:\n",
      "\n",
      "      <lock>\t_lock has children:\n",
      "\n",
      "      <lock>\t_lock has children:\n",
      "\n",
      "      <lock>\t_lock has children:\n",
      "\n",
      "    <Condition>\tnot_full has children:\n",
      "        <lock>\t_lock\n",
      "        <lock>\t_lock\n",
      "        <lock>\t_lock\n",
      "        <deque>\t_waiters\n",
      "\n",
      "      <deque>\t_waiters has children:\n",
      "\n",
      "      <lock>\t_lock has children:\n",
      "\n",
      "      <lock>\t_lock has children:\n",
      "\n",
      "      <lock>\t_lock has children:\n",
      "\n",
      "    <Condition>\tnot_empty has children:\n",
      "        <lock>\t_lock\n",
      "        <lock>\t_lock\n",
      "        <lock>\t_lock\n",
      "        <deque>\t_waiters\n",
      "\n",
      "      <deque>\t_waiters has children:\n",
      "\n",
      "      <lock>\t_lock has children:\n",
      "\n",
      "      <lock>\t_lock has children:\n",
      "\n",
      "      <lock>\t_lock has children:\n",
      "\n",
      "    <lock>\tmutex has children:\n",
      "\n",
      "    <list>\tqueue has children:\n",
      "\n",
      "  <Portfolio>\tportfolio has children:\n",
      "      <dict>\t_symbols_dict\n",
      "\n",
      "    <dict>\t_symbols_dict has children:\n",
      "        <Symbol>\tAUDCHF\n",
      "\n",
      "      <Symbol>\tAUDCHF has children:\n",
      "          <str>\tsymbol_name:\tAUDCHF\n",
      "          <dict>\t_velas_dict\n",
      "          <SymbolProperties>\tproperties\n",
      "          <MarketHours>\tmarket_hours\n",
      "\n",
      "        <MarketHours>\tmarket_hours has children:\n",
      "            <NoneType>\topen_time:\tNone\n",
      "            <NoneType>\tclose_time:\tNone\n",
      "            <NoneType>\ttrading_days_list:\tNone\n",
      "            <NoneType>\tspecial_days_dict:\tNone\n",
      "\n",
      "        <SymbolProperties>\tproperties has children:\n",
      "            <str>\tsymbol_name:\tAUDCHF\n",
      "            <NoneType>\ttype:\tNone\n",
      "            <NoneType>\tcountry:\tNone\n",
      "            <NoneType>\tcurrency:\tNone\n",
      "            <NoneType>\tsector:\tNone\n",
      "            <NoneType>\tcontract_size:\tNone\n",
      "            <NoneType>\tpoint_size:\tNone\n",
      "            <NoneType>\tmin_tick_value:\tNone\n",
      "\n",
      "        <dict>\t_velas_dict has children:\n",
      "            <Velas>\tTimeframes.M15\n",
      "\n",
      "          <Velas>\tTimeframes.M15 has children:\n",
      "              <str>\tsymbol_name:\tAUDCHF\n",
      "              <Timeframes>\ttimeframe:\tTimeframes.M15\n",
      "              <Timestamp>\tstart_time:\t2019-07-20 00:00:00\n",
      "              <Timestamp>\tend_time:\t2019-07-25 00:00:00\n",
      "              <ndarray>\t_time_mask:\t[97532 97533 97534 97535 97536 97537 975\n",
      "              <DataFrame>\t_df\n",
      "              <bool>\t_trimmed:\tFalse\n",
      "\n",
      "            <DataFrame>\t_df has children:\n",
      "                <str>\tcolumns:\t['Open', 'High', 'Low', 'Close', 'Volume\n",
      "                <DatetimeIndex>\tindex:\tDatetimeIndex(['2015-08-14 23:45:00', '2\n",
      "\n",
      "\n"
     ]
    }
   ],
   "source": [
    "unwrap(entry_strategy)"
   ]
  },
  {
   "cell_type": "markdown",
   "metadata": {},
   "source": [
    "## Computing the signals\n",
    "\n",
    "Once we have the portfolio and parameters of the strategy load, we can compute:\n",
    "- Its signals from the raw data.\n",
    "- The BUY SELL\n",
    "- The dict of actions\n"
   ]
  },
  {
   "cell_type": "code",
   "execution_count": 6,
   "metadata": {},
   "outputs": [
    {
     "data": {
      "text/html": [
       "<div>\n",
       "<style scoped>\n",
       "    .dataframe tbody tr th:only-of-type {\n",
       "        vertical-align: middle;\n",
       "    }\n",
       "\n",
       "    .dataframe tbody tr th {\n",
       "        vertical-align: top;\n",
       "    }\n",
       "\n",
       "    .dataframe thead th {\n",
       "        text-align: right;\n",
       "    }\n",
       "</style>\n",
       "<table border=\"1\" class=\"dataframe\">\n",
       "  <thead>\n",
       "    <tr style=\"text-align: right;\">\n",
       "      <th></th>\n",
       "      <th>slow_MA</th>\n",
       "      <th>fast_MA</th>\n",
       "    </tr>\n",
       "    <tr>\n",
       "      <th>Timestamp</th>\n",
       "      <th></th>\n",
       "      <th></th>\n",
       "    </tr>\n",
       "  </thead>\n",
       "  <tbody>\n",
       "    <tr>\n",
       "      <td>2019-07-22 00:00:00</td>\n",
       "      <td>NaN</td>\n",
       "      <td>NaN</td>\n",
       "    </tr>\n",
       "    <tr>\n",
       "      <td>2019-07-22 00:15:00</td>\n",
       "      <td>NaN</td>\n",
       "      <td>NaN</td>\n",
       "    </tr>\n",
       "    <tr>\n",
       "      <td>2019-07-22 00:30:00</td>\n",
       "      <td>NaN</td>\n",
       "      <td>NaN</td>\n",
       "    </tr>\n",
       "    <tr>\n",
       "      <td>2019-07-22 00:45:00</td>\n",
       "      <td>NaN</td>\n",
       "      <td>NaN</td>\n",
       "    </tr>\n",
       "    <tr>\n",
       "      <td>2019-07-22 01:00:00</td>\n",
       "      <td>NaN</td>\n",
       "      <td>NaN</td>\n",
       "    </tr>\n",
       "    <tr>\n",
       "      <td>...</td>\n",
       "      <td>...</td>\n",
       "      <td>...</td>\n",
       "    </tr>\n",
       "    <tr>\n",
       "      <td>2019-07-25 22:45:00</td>\n",
       "      <td>0.688035</td>\n",
       "      <td>0.688438</td>\n",
       "    </tr>\n",
       "    <tr>\n",
       "      <td>2019-07-25 23:00:00</td>\n",
       "      <td>0.688078</td>\n",
       "      <td>0.688452</td>\n",
       "    </tr>\n",
       "    <tr>\n",
       "      <td>2019-07-25 23:15:00</td>\n",
       "      <td>0.688116</td>\n",
       "      <td>0.688484</td>\n",
       "    </tr>\n",
       "    <tr>\n",
       "      <td>2019-07-25 23:30:00</td>\n",
       "      <td>0.688149</td>\n",
       "      <td>0.688494</td>\n",
       "    </tr>\n",
       "    <tr>\n",
       "      <td>2019-07-25 23:45:00</td>\n",
       "      <td>0.688163</td>\n",
       "      <td>0.688504</td>\n",
       "    </tr>\n",
       "  </tbody>\n",
       "</table>\n",
       "<p>384 rows × 2 columns</p>\n",
       "</div>"
      ],
      "text/plain": [
       "                      slow_MA   fast_MA\n",
       "Timestamp                              \n",
       "2019-07-22 00:00:00       NaN       NaN\n",
       "2019-07-22 00:15:00       NaN       NaN\n",
       "2019-07-22 00:30:00       NaN       NaN\n",
       "2019-07-22 00:45:00       NaN       NaN\n",
       "2019-07-22 01:00:00       NaN       NaN\n",
       "...                       ...       ...\n",
       "2019-07-25 22:45:00  0.688035  0.688438\n",
       "2019-07-25 23:00:00  0.688078  0.688452\n",
       "2019-07-25 23:15:00  0.688116  0.688484\n",
       "2019-07-25 23:30:00  0.688149  0.688494\n",
       "2019-07-25 23:45:00  0.688163  0.688504\n",
       "\n",
       "[384 rows x 2 columns]"
      ]
     },
     "execution_count": 6,
     "metadata": {},
     "output_type": "execute_result"
    }
   ],
   "source": [
    "entry_strategy_series = entry_strategy.compute_strategy_series()\n",
    "entry_strategy_series"
   ]
  },
  {
   "cell_type": "code",
   "execution_count": 7,
   "metadata": {},
   "outputs": [
    {
     "data": {
      "text/plain": [
       "Timestamp\n",
       "2019-07-22 00:00:00    0.0\n",
       "2019-07-22 00:15:00    0.0\n",
       "2019-07-22 00:30:00    0.0\n",
       "2019-07-22 00:45:00    0.0\n",
       "2019-07-22 01:00:00    0.0\n",
       "                      ... \n",
       "2019-07-25 22:45:00    0.0\n",
       "2019-07-25 23:00:00    0.0\n",
       "2019-07-25 23:15:00    0.0\n",
       "2019-07-25 23:30:00    0.0\n",
       "2019-07-25 23:45:00    0.0\n",
       "Name: Crosses, Length: 384, dtype: float64"
      ]
     },
     "execution_count": 7,
     "metadata": {},
     "output_type": "execute_result"
    }
   ],
   "source": [
    "entry_series = entry_strategy.compute_entry_series()\n",
    "entry_series"
   ]
  },
  {
   "cell_type": "markdown",
   "metadata": {},
   "source": [
    "### Compute the entry request"
   ]
  },
  {
   "cell_type": "code",
   "execution_count": 18,
   "metadata": {},
   "outputs": [
    {
     "data": {
      "text/plain": [
       "(Timestamp('2019-07-23 04:00:00'),\n",
       " <traphing.strategies.entry._EntryRequest.EntryRequest at 0x7f5b4b177390>)"
      ]
     },
     "execution_count": 18,
     "metadata": {},
     "output_type": "execute_result"
    }
   ],
   "source": [
    "entry_requests_queue = entry_strategy.compute_entry_requests_queue()\n",
    "entry_requests_queue.get()"
   ]
  },
  {
   "cell_type": "code",
   "execution_count": 21,
   "metadata": {},
   "outputs": [
    {
     "name": "stdout",
     "output_type": "stream",
     "text": [
      "<EntryRequest>\tobject has children:\n",
      "    <str>\tstrategy_id:\tCrossing averages 1\n",
      "    <str>\tentry_request_id:\t11\n",
      "    <Timestamp>\tcandlestick_timestamp:\t2019-07-23 16:30:00\n",
      "    <str>\tsymbol_name:\tAUDCHF\n",
      "    <str>\tBUYSELL:\tSELL\n",
      "    <float>\tprice:\t0.6894\n",
      "    <datetime>\tsignal_timestamp:\t2019-10-20 17:05:42.883533\n",
      "    <int>\tpriority:\t0\n",
      "    <int>\trecommendedPosition:\t1\n",
      "    <str>\ttradingStyle:\tdayTrading\n",
      "    <str>\tcomments:\tBasic Crossing MA man !\n",
      "\n",
      "\n"
     ]
    }
   ],
   "source": [
    "n_requests = entry_requests_queue.qsize()\n",
    "entry_requests_dict = dict([entry_requests_queue.get() for i in range(n_requests)])\n",
    "entries_dates = sorted(list(entry_requests_dict.keys()))\n",
    "entry_request = entry_requests_dict[entries_dates[0]]\n",
    "unwrap(entry_request)"
   ]
  },
  {
   "cell_type": "code",
   "execution_count": 15,
   "metadata": {},
   "outputs": [
    {
     "data": {
      "text/plain": [
       "{Timestamp('2019-07-23 16:30:00'): <traphing.strategies.entry._EntryRequest.EntryRequest at 0x7f5b4b1b3450>,\n",
       " Timestamp('2019-07-24 01:00:00'): <traphing.strategies.entry._EntryRequest.EntryRequest at 0x7f5b4bda39d0>,\n",
       " Timestamp('2019-07-24 03:15:00'): <traphing.strategies.entry._EntryRequest.EntryRequest at 0x7f5b4b1bba10>,\n",
       " Timestamp('2019-07-25 13:45:00'): <traphing.strategies.entry._EntryRequest.EntryRequest at 0x7f5b4bda3c50>}"
      ]
     },
     "execution_count": 15,
     "metadata": {},
     "output_type": "execute_result"
    }
   ],
   "source": [
    "entry_requests_dict"
   ]
  },
  {
   "cell_type": "markdown",
   "metadata": {},
   "source": [
    "### Plotting the results"
   ]
  },
  {
   "cell_type": "code",
   "execution_count": 16,
   "metadata": {},
   "outputs": [
    {
     "data": {
      "image/png": "[encoded data removed]",
      "text/plain": [
       "<IPython.core.display.Image object>"
      ]
     },
     "execution_count": 16,
     "metadata": {},
     "output_type": "execute_result"
    }
   ],
   "source": [
    "image_name = \"entry_strategy.png\"; img_path = folder_images + image_name\n",
    "gl.init_figure()\n",
    "\n",
    "n_rows, n_cols = 2,1; size_inches = [12, 5]\n",
    "\n",
    "ax1 = gl.subplot2grid((n_rows, n_cols),(0,0))\n",
    "ax2 = gl.subplot2grid((n_rows, n_cols),(1,0), sharex = ax1)\n",
    "\n",
    "portfolio[symbol_name][timeframe].plot_barchart(axes = ax1, labels = [\"Entry and Exit strategies\", \"\", \"Entry signals\"])\n",
    "gl.plot(entry_strategy_series.index, entry_strategy_series, legend = list(entry_strategy_series.columns), axes =ax1)\n",
    "\n",
    "difference = entry_strategy_series[\"slow_MA\"] - entry_strategy_series[\"fast_MA\"]\n",
    "normalized_difference = difference/np.max(np.abs((difference)))\n",
    "gl.fill_between(entry_strategy_series.index, normalized_difference, \n",
    "                labels = [\"\", \"\", \"Entry requests\"], legend = \"Normalized signal diff\", axes =ax2)\n",
    "gl.stem(entry_strategy_series.index,entry_series, axes = ax2, legend = \"Trades\")\n",
    "\n",
    "gl.subplots_adjust(left=.09, bottom=.10, right=.90, top=.95, wspace=.20, hspace=0, hide_xaxis = True)\n",
    "gl.save_figure(img_path, dpi = 100, size_inches = size_inches, close = True)\n",
    "Image(img_path)"
   ]
  },
  {
   "cell_type": "markdown",
   "metadata": {},
   "source": [
    "## Formulate a trade.\n",
    "\n",
    "If the Brain decides to perform the trade and it is executed, an instance of the Trade object will be created.\n",
    "The Trade Class contains all the information about a sucessful trade made. \n",
    "\n",
    "Here we will simulate it.\n"
   ]
  },
  {
   "cell_type": "code",
   "execution_count": 17,
   "metadata": {},
   "outputs": [
    {
     "name": "stdout",
     "output_type": "stream",
     "text": [
      "<Trade>\tobject has children:\n",
      "    <str>\ttrade_id:\tmy_trade12\n",
      "    <EntryRequest>\tentry_request\n",
      "    <str>\ttrade_price:\t0.7\n",
      "    <datetime>\ttrade_timestamp:\t2019-10-20 17:02:46.058099\n",
      "    <str>\tBUYSELL:\tSELL\n",
      "    <str>\tstrategy_id:\tCrossing averages 1\n",
      "    <str>\tentry_request_id:\t6\n",
      "\n",
      "  <EntryRequest>\tentry_request has children:\n",
      "      <str>\tstrategy_id:\tCrossing averages 1\n",
      "      <str>\tentry_request_id:\t6\n",
      "      <Timestamp>\tcandlestick_timestamp:\t2019-07-23 16:30:00\n",
      "      <str>\tsymbol_name:\tAUDCHF\n",
      "      <str>\tBUYSELL:\tSELL\n",
      "      <float>\tprice:\t0.6894\n",
      "      <datetime>\tsignal_timestamp:\t2019-10-20 17:02:35.342343\n",
      "      <int>\tpriority:\t0\n",
      "      <int>\trecommendedPosition:\t1\n",
      "      <str>\ttradingStyle:\tdayTrading\n",
      "      <str>\tcomments:\tBasic Crossing MA man !\n",
      "\n",
      "\n"
     ]
    }
   ],
   "source": [
    "trade = Trade(trade_id = \"my_trade12\", entry_request = entry_request,\n",
    "                 trade_price = \"0.7\", trade_timestamp = dt.datetime.now())\n",
    "unwrap(trade)"
   ]
  },
  {
   "cell_type": "markdown",
   "metadata": {},
   "source": [
    "# Interaction with Colliseum"
   ]
  },
  {
   "cell_type": "code",
   "execution_count": null,
   "metadata": {},
   "outputs": [],
   "source": []
  }
 ],
 "metadata": {
  "kernelspec": {
   "display_name": "Python 3",
   "language": "python",
   "name": "python3"
  },
  "language_info": {
   "codemirror_mode": {
    "name": "ipython",
    "version": 3
   },
   "file_extension": ".py",
   "mimetype": "text/x-python",
   "name": "python",
   "nbconvert_exporter": "python",
   "pygments_lexer": "ipython3",
   "version": "3.7.4"
  }
 },
 "nbformat": 4,
 "nbformat_minor": 2
}
