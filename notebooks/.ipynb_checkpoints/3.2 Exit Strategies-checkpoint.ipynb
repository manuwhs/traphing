{
 "cells": [
  {
   "cell_type": "markdown",
   "metadata": {},
   "source": [
    "# Exit strategies\n",
    "\n",
    "When a Entry Strategy creates a Entry Signal that is accepted by Brain and a trade is made. Then an Exit strategy is set up for it."
   ]
  },
  {
   "cell_type": "code",
   "execution_count": 1,
   "metadata": {},
   "outputs": [],
   "source": [
    "import datetime as dt\n",
    "import pandas as pd\n",
    "import numpy as np\n",
    "import matplotlib.pyplot as plt \n",
    "from IPython.display import Image\n",
    "%matplotlib qt\n",
    "\n",
    "import sys\n",
    "sys.path.insert(0, \"..\")  # Adds higher directory to python modules path.\n",
    "\n",
    "from traphing.data_classes import Velas, Portfolio\n",
    "\n",
    "from traphing.strategies import Trade\n",
    "from traphing.strategies.entry import EntryStrategy, CrossingMovingAverages\n",
    "from traphing.strategies.exit import ExitStrategy, StopLoss\n",
    "\n",
    "from traphing.utils import Timeframes, unwrap\n",
    "import traphing.utils  as ul\n",
    "\n",
    "from traphing.graph.Gl import gl\n",
    "\n",
    "folder_images = \"./images/python_generated/strategies/\""
   ]
  },
  {
   "cell_type": "markdown",
   "metadata": {},
   "source": [
    "## Setting up a portfolio\n",
    "\n",
    "Strategies work on porfolio objects, they are part of them.\n"
   ]
  },
  {
   "cell_type": "code",
   "execution_count": 2,
   "metadata": {},
   "outputs": [
    {
     "name": "stdout",
     "output_type": "stream",
     "text": [
      "Size ../tests/data/storage/M15/AUDCHF_M15.csv:  100400  rows\n"
     ]
    }
   ],
   "source": [
    "symbol_names_list = [\"AUDCHF\"]\n",
    "timeframes_list = [Timeframes.M15]\n",
    "portfolio_name = \"my_portfolio\"\n",
    "\n",
    "storage_folder = \"../tests/data/storage/\"\n",
    "\n",
    "portfolio = Portfolio(portfolio_name, symbol_names_list, timeframes_list)\n",
    "portfolio.load_data_from_csv(storage_folder)\n",
    "\n",
    "start_time = dt.datetime(2019,7,20); end_time = dt.datetime(2019,7,25)\n",
    "portfolio.set_time_interval(start_time,end_time)"
   ]
  },
  {
   "cell_type": "markdown",
   "metadata": {},
   "source": [
    "## Simulate the Trade object for the exit strategy"
   ]
  },
  {
   "cell_type": "code",
   "execution_count": 3,
   "metadata": {},
   "outputs": [
    {
     "ename": "AttributeError",
     "evalue": "'CrossingMovingAverages' object has no attribute 'compute_entry_requests_dict'",
     "output_type": "error",
     "traceback": [
      "\u001b[0;31m---------------------------------------------------------------------------\u001b[0m",
      "\u001b[0;31mAttributeError\u001b[0m                            Traceback (most recent call last)",
      "\u001b[0;32m<ipython-input-3-fe01d941567f>\u001b[0m in \u001b[0;36m<module>\u001b[0;34m\u001b[0m\n\u001b[1;32m     15\u001b[0m \u001b[0mentry_series\u001b[0m \u001b[0;34m=\u001b[0m \u001b[0mentry_strategy\u001b[0m\u001b[0;34m.\u001b[0m\u001b[0mcompute_entry_series\u001b[0m\u001b[0;34m(\u001b[0m\u001b[0;34m)\u001b[0m\u001b[0;34m\u001b[0m\u001b[0;34m\u001b[0m\u001b[0m\n\u001b[1;32m     16\u001b[0m \u001b[0;34m\u001b[0m\u001b[0m\n\u001b[0;32m---> 17\u001b[0;31m \u001b[0mentry_requests_dict\u001b[0m \u001b[0;34m=\u001b[0m \u001b[0mentry_strategy\u001b[0m\u001b[0;34m.\u001b[0m\u001b[0mcompute_entry_requests_dict\u001b[0m\u001b[0;34m(\u001b[0m\u001b[0;34m)\u001b[0m\u001b[0;34m\u001b[0m\u001b[0;34m\u001b[0m\u001b[0m\n\u001b[0m\u001b[1;32m     18\u001b[0m \u001b[0mentries_dates\u001b[0m \u001b[0;34m=\u001b[0m \u001b[0msorted\u001b[0m\u001b[0;34m(\u001b[0m\u001b[0mlist\u001b[0m\u001b[0;34m(\u001b[0m\u001b[0mentry_requests_dict\u001b[0m\u001b[0;34m.\u001b[0m\u001b[0mkeys\u001b[0m\u001b[0;34m(\u001b[0m\u001b[0;34m)\u001b[0m\u001b[0;34m)\u001b[0m\u001b[0;34m)\u001b[0m\u001b[0;34m\u001b[0m\u001b[0;34m\u001b[0m\u001b[0m\n\u001b[1;32m     19\u001b[0m \u001b[0mentry_request\u001b[0m \u001b[0;34m=\u001b[0m \u001b[0mentry_requests_dict\u001b[0m\u001b[0;34m[\u001b[0m\u001b[0mentries_dates\u001b[0m\u001b[0;34m[\u001b[0m\u001b[0;36m0\u001b[0m\u001b[0;34m]\u001b[0m\u001b[0;34m]\u001b[0m\u001b[0;34m\u001b[0m\u001b[0;34m\u001b[0m\u001b[0m\n",
      "\u001b[0;31mAttributeError\u001b[0m: 'CrossingMovingAverages' object has no attribute 'compute_entry_requests_dict'"
     ]
    }
   ],
   "source": [
    "entry_strategy = CrossingMovingAverages(\"Crossing averages 1\", portfolio)\n",
    "symbol_name = symbol_names_list[0]\n",
    "timeframe = timeframes_list[0]\n",
    "\n",
    "# Set the paramters\n",
    "slow_MA_params = {\"symbol_name\":symbol_name,\"timeframe\": timeframe,\"indicator_name\":\"SMA\", \"args\": {\"n\":45}}\n",
    "fast_MA_params = {\"symbol_name\":symbol_name,\"timeframe\": timeframe,\"indicator_name\":\"SMA\", \"args\":{\"n\":20}}\n",
    "\n",
    "entry_strategy.set_slow_MA(slow_MA_params)\n",
    "entry_strategy.set_fast_MA(fast_MA_params)\n",
    "\n",
    "entry_strategy_series = entry_strategy.compute_strategy_series()\n",
    "slow_MA = entry_strategy_series[\"slow_MA\"]\n",
    "fast_MA = entry_strategy_series[\"fast_MA\"]\n",
    "entry_series = entry_strategy.compute_entry_series()\n",
    "\n",
    "entry_requests_dict = entry_strategy.compute_entry_requests_dict()\n",
    "entries_dates = sorted(list(entry_requests_dict.keys()))\n",
    "entry_request = entry_requests_dict[entries_dates[0]]\n",
    "\n",
    "trade = Trade(trade_id = \"my_trade12\", entry_request = entry_request,\n",
    "                 trade_price = entry_request.price, trade_timestamp = dt.datetime.now())"
   ]
  },
  {
   "cell_type": "markdown",
   "metadata": {},
   "source": [
    "# ExitStrategy class\n",
    "\n",
    "The ExitStrategy class is a template for the strategies that defines the interface of all exit strategies. Once an EntrySignal has been accepted and its corresponding order placed, an instance of an ExitStrategy class will be created to monitor the trade.\n",
    "\n",
    "Every object of the Exit Strategy serves only one EntrySignal object.\n",
    "\n",
    "In the same way that a EntryStrategy object looks at a set up indicators, we also do it in here."
   ]
  },
  {
   "cell_type": "code",
   "execution_count": null,
   "metadata": {},
   "outputs": [],
   "source": [
    "### Exit strategy\n",
    "exit_strategy =  StopLoss(strategy_id = \"Exit coward\", trade = trade, portfolio = portfolio)\n"
   ]
  },
  {
   "cell_type": "code",
   "execution_count": null,
   "metadata": {},
   "outputs": [],
   "source": [
    "# Set the velas it will be listening to.\n",
    "exit_strategy.set_velas(symbol_name, timeframe)\n",
    "exit_strategy.set_stop_loss(pct = 0.1)\n"
   ]
  },
  {
   "cell_type": "code",
   "execution_count": null,
   "metadata": {},
   "outputs": [],
   "source": [
    "#exit_strategy.set_stop_loss(price = 0.8)\n",
    "# Get shit\n",
    "exit_strategy_series = exit_strategy.compute_strategy_series()\n",
    "exit_series= exit_strategy.compute_exit_series()"
   ]
  },
  {
   "cell_type": "code",
   "execution_count": null,
   "metadata": {},
   "outputs": [],
   "source": [
    "# Compute the BUYSELL Requests\n",
    "exit_requests_dict = exit_strategy.compute_exit_requests_dict()\n",
    "exits_dates = sorted(list(exit_requests_dict.keys()))\n",
    "exit_request = exit_requests_dict[exits_dates[0]]"
   ]
  },
  {
   "cell_type": "code",
   "execution_count": null,
   "metadata": {},
   "outputs": [],
   "source": [
    "image_name = \"entry_and_exit.png\"; img_path = folder_images + image_name\n",
    "gl.init_figure()\n",
    "n_rows, n_cols = 4,1; size_inches = [12, 8]\n",
    "ax1 = gl.subplot2grid((n_rows, n_cols),(0,0))\n",
    "ax2 = gl.subplot2grid((n_rows, n_cols),(1,0), sharex = ax1)\n",
    "ax3 = gl.subplot2grid((n_rows, n_cols),(2,0), sharex = ax1)\n",
    "ax4 = gl.subplot2grid((n_rows, n_cols),(3,0), sharex = ax1)\n",
    "\n",
    "portfolio[symbol_name][timeframe].plot_barchart(axes = ax1, labels = [\"Entry and Exit strategies\", \"\", \"Entry signals\"])\n",
    "gl.plot(entry_strategy_series.index, entry_strategy_series, legend = list(entry_strategy_series.columns), axes =ax1)\n",
    "\n",
    "difference = slow_MA - fast_MA\n",
    "normalized_difference = difference/np.max(np.abs((difference)))\n",
    "gl.fill_between(entry_strategy_series.index, normalized_difference, \n",
    "                labels = [\"\", \"\", \"Entry requests\"], legend = \"Normalized signal diff\", axes =ax2)\n",
    "gl.stem(entry_strategy_series.index,entry_series, axes = ax2, legend = \"Trades\")\n",
    "\n",
    "## Plot exit\n",
    "gl.plot(exit_strategy_series.index, exit_strategy_series, axes = ax3, \n",
    "        legend = list(exit_strategy_series.columns), labels = [\"\", \"\", \"Exit signals\"])\n",
    "\n",
    "difference = exit_strategy_series[\"Close\"] - exit_strategy_series[\"Stop_loss\"]\n",
    "normalized_difference = difference/np.max(np.abs((difference)))\n",
    "gl.fill_between(exit_strategy_series.index, normalized_difference, legend = [\"Normalized signal diff\"], axes =ax4)\n",
    "gl.stem(exit_series.index,exit_series, axes = ax4, legend = \"Exits\", labels = [\"\", \"\", \"Exit requests\"])\n",
    "\n",
    "gl.subplots_adjust(left=.09, bottom=.10, right=.90, top=.95, wspace=.20, hspace=0, hide_xaxis = True)\n",
    "\n",
    "gl.save_figure(img_path, dpi = 100, size_inches = size_inches, close = True)\n",
    "Image(img_path)"
   ]
  },
  {
   "cell_type": "code",
   "execution_count": null,
   "metadata": {},
   "outputs": [],
   "source": []
  }
 ],
 "metadata": {
  "kernelspec": {
   "display_name": "Python 3",
   "language": "python",
   "name": "python3"
  },
  "language_info": {
   "codemirror_mode": {
    "name": "ipython",
    "version": 3
   },
   "file_extension": ".py",
   "mimetype": "text/x-python",
   "name": "python",
   "nbconvert_exporter": "python",
   "pygments_lexer": "ipython3",
   "version": "3.7.4"
  }
 },
 "nbformat": 4,
 "nbformat_minor": 2
}
