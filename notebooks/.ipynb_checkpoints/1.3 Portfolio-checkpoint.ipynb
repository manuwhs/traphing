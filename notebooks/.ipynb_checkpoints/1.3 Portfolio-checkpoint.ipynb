{
 "cells": [
  {
   "cell_type": "markdown",
   "metadata": {},
   "source": [
    "# Portfolio Class\n",
    "\n",
    "This Portfolio class provides the a basic interface to interact with the Technical Analysis data of a set of symbols. It contains a set of *Symbol* objects and provides a similar set functionalities to the Symbol class:\n",
    "<ul>   \n",
    "    <li> Loading and saving the raw candlestick data from different sources (.csv, SQL..).</li>\n",
    "    <li> Handling the data updating, missing data, separating trading sessions...</li>\n",
    "    <li> Technical Analysis indicators</li>\n",
    "    <li> Common plots.</li>\n",
    "</ul>    \n",
    "\n",
    "In adition, it also provides a set of functionalities for portfolio analysis."
   ]
  },
  {
   "cell_type": "markdown",
   "metadata": {},
   "source": [
    "### Import libraries"
   ]
  },
  {
   "cell_type": "code",
   "execution_count": 1,
   "metadata": {},
   "outputs": [],
   "source": [
    "import sys\n",
    "import datetime as dt\n",
    "import pandas as pd\n",
    "from IPython.display import Image\n",
    "%matplotlib qt \n",
    "\n",
    "sys.path.insert(0,\"..\") # Adds higher directory to python modules path.\n",
    "\n",
    "from traphing.data_classes import Velas, Symbol, Portfolio\n",
    "from traphing.utils import Timeframes, unwrap\n",
    "from traphing.graph.Gl import gl"
   ]
  },
  {
   "cell_type": "markdown",
   "metadata": {},
   "source": [
    "## Creating a Symbol instance\n",
    "\n",
    "When we create a Symbol object, we need to specify the basic parameters of the symbol data:\n",
    " - <b>symbol_names_list</b>: A list with the names of the symbols in the portfolio.\n",
    " -  <b>timeframes_list</b>: A list with the different timeframes of the candlesticks we want to include.\n",
    "\n",
    "No candlestick data is loaded when creating the object."
   ]
  },
  {
   "cell_type": "code",
   "execution_count": 2,
   "metadata": {},
   "outputs": [
    {
     "data": {
      "text/plain": [
       "<traphing.data_classes._Portfolio._Portfolio.Portfolio at 0x7f9c567ea490>"
      ]
     },
     "execution_count": 2,
     "metadata": {},
     "output_type": "execute_result"
    }
   ],
   "source": [
    "portfolio_id = \"Manu's winter portfolio\"\n",
    "symbol_names_list = [\"AUDCHF\", \"AUDCAD\"]\n",
    "timeframes_list = [Timeframes.M15, Timeframes.D1]\n",
    "\n",
    "portfolio = Portfolio(portfolio_id, symbol_names_list, timeframes_list)\n",
    "portfolio"
   ]
  },
  {
   "cell_type": "markdown",
   "metadata": {},
   "source": [
    "The Symbol objects are initialized with no candlestick data. They are stored in an internal dictionary where the key is the *symbol_name* and the value is the Symbol object. This implementation should be transparent to the usage of the Symbol class. \n",
    "\n",
    "We can access the Velas objects inside the Porfolio instance by their *symbol_name*. We can get the current symbol_names_list in the Porfolio object by means of the attribute *symbol_names_list* which has been modify using a *getter* to compute the list dinamically when accessed.\n",
    "\n",
    "We can use the *Porfolio* object as a dictionary to get the Symbol objects."
   ]
  },
  {
   "cell_type": "code",
   "execution_count": 3,
   "metadata": {},
   "outputs": [
    {
     "data": {
      "text/plain": [
       "['AUDCHF', 'AUDCAD']"
      ]
     },
     "execution_count": 3,
     "metadata": {},
     "output_type": "execute_result"
    }
   ],
   "source": [
    "portfolio.symbol_names_list"
   ]
  },
  {
   "cell_type": "code",
   "execution_count": 4,
   "metadata": {},
   "outputs": [
    {
     "data": {
      "text/plain": [
       "<traphing.data_classes._Symbol._Symbol.Symbol at 0x7f9c1513b2d0>"
      ]
     },
     "execution_count": 4,
     "metadata": {},
     "output_type": "execute_result"
    }
   ],
   "source": [
    "portfolio['AUDCHF']"
   ]
  },
  {
   "cell_type": "markdown",
   "metadata": {},
   "source": [
    "### Adding and removing Symbol objects\n",
    "\n",
    "We can easily add, and delete velas inside the object using the following methods."
   ]
  },
  {
   "cell_type": "code",
   "execution_count": 5,
   "metadata": {},
   "outputs": [
    {
     "name": "stdout",
     "output_type": "stream",
     "text": [
      "['AUDCHF', 'AUDCAD', 'AUC']\n"
     ]
    }
   ],
   "source": [
    "portfolio.add_symbol(\"AUC\", [])\n",
    "print (portfolio.symbol_names_list)"
   ]
  },
  {
   "cell_type": "code",
   "execution_count": 6,
   "metadata": {},
   "outputs": [
    {
     "name": "stdout",
     "output_type": "stream",
     "text": [
      "['AUDCHF', 'AUDCAD']\n"
     ]
    }
   ],
   "source": [
    "portfolio.del_symbol(\"AUC\")\n",
    "print (portfolio.symbol_names_list)"
   ]
  },
  {
   "cell_type": "markdown",
   "metadata": {},
   "source": [
    "## Loading the data from .csv\n",
    "\n",
    "The Porfolio class makes it easy to load the candlestick data for all the symbols at once. It has the same loading functions as the Symbol class, which internally call the same function for all of its Symbol objects."
   ]
  },
  {
   "cell_type": "code",
   "execution_count": 7,
   "metadata": {},
   "outputs": [
    {
     "name": "stdout",
     "output_type": "stream",
     "text": [
      "Size ../tests/data/storage/M15/AUDCHF_M15.csv:  100400  rows\n",
      "Size ../tests/data/storage/D1/AUDCHF_D1.csv:  4894  rows\n",
      "Size ../tests/data/storage/M15/AUDCAD_M15.csv:  99483  rows\n",
      "Size ../tests/data/storage/D1/AUDCAD_D1.csv:  4963  rows\n"
     ]
    }
   ],
   "source": [
    "storage_folder = \"../tests/data/storage/\"\n",
    "portfolio.load_data_from_csv(storage_folder)"
   ]
  },
  {
   "cell_type": "markdown",
   "metadata": {},
   "source": [
    "## Set interval\n",
    "\n",
    "We can set the time interval directly to the *Portfolio* object using the same interface as the one for Velas. The interval applied to the *Symbol* is applied to all of its Velas objects."
   ]
  },
  {
   "cell_type": "code",
   "execution_count": 8,
   "metadata": {},
   "outputs": [],
   "source": [
    "start_time = dt.datetime(2019,7,20)\n",
    "end_time = dt.datetime(2019,8,20)\n",
    "\n",
    "portfolio.set_time_interval(start_time, end_time, trim = False)"
   ]
  },
  {
   "cell_type": "code",
   "execution_count": 9,
   "metadata": {},
   "outputs": [
    {
     "data": {
      "text/html": [
       "<div>\n",
       "<style scoped>\n",
       "    .dataframe tbody tr th:only-of-type {\n",
       "        vertical-align: middle;\n",
       "    }\n",
       "\n",
       "    .dataframe tbody tr th {\n",
       "        vertical-align: top;\n",
       "    }\n",
       "\n",
       "    .dataframe thead th {\n",
       "        text-align: right;\n",
       "    }\n",
       "</style>\n",
       "<table border=\"1\" class=\"dataframe\">\n",
       "  <thead>\n",
       "    <tr style=\"text-align: right;\">\n",
       "      <th></th>\n",
       "      <th>Open</th>\n",
       "      <th>High</th>\n",
       "      <th>Low</th>\n",
       "      <th>Close</th>\n",
       "      <th>Volume</th>\n",
       "    </tr>\n",
       "    <tr>\n",
       "      <th>Timestamp</th>\n",
       "      <th></th>\n",
       "      <th></th>\n",
       "      <th></th>\n",
       "      <th></th>\n",
       "      <th></th>\n",
       "    </tr>\n",
       "  </thead>\n",
       "  <tbody>\n",
       "    <tr>\n",
       "      <td>2019-07-22 00:00:00</td>\n",
       "      <td>0.69208</td>\n",
       "      <td>0.69241</td>\n",
       "      <td>0.69173</td>\n",
       "      <td>0.69213</td>\n",
       "      <td>58.0</td>\n",
       "    </tr>\n",
       "    <tr>\n",
       "      <td>2019-07-22 00:15:00</td>\n",
       "      <td>0.69208</td>\n",
       "      <td>0.69240</td>\n",
       "      <td>0.69124</td>\n",
       "      <td>0.69203</td>\n",
       "      <td>187.0</td>\n",
       "    </tr>\n",
       "    <tr>\n",
       "      <td>2019-07-22 00:30:00</td>\n",
       "      <td>0.69209</td>\n",
       "      <td>0.69253</td>\n",
       "      <td>0.69167</td>\n",
       "      <td>0.69171</td>\n",
       "      <td>411.0</td>\n",
       "    </tr>\n",
       "    <tr>\n",
       "      <td>2019-07-22 00:45:00</td>\n",
       "      <td>0.69199</td>\n",
       "      <td>0.69232</td>\n",
       "      <td>0.69143</td>\n",
       "      <td>0.69185</td>\n",
       "      <td>182.0</td>\n",
       "    </tr>\n",
       "    <tr>\n",
       "      <td>2019-07-22 01:00:00</td>\n",
       "      <td>0.69209</td>\n",
       "      <td>0.69222</td>\n",
       "      <td>0.69142</td>\n",
       "      <td>0.69153</td>\n",
       "      <td>267.0</td>\n",
       "    </tr>\n",
       "    <tr>\n",
       "      <td>...</td>\n",
       "      <td>...</td>\n",
       "      <td>...</td>\n",
       "      <td>...</td>\n",
       "      <td>...</td>\n",
       "      <td>...</td>\n",
       "    </tr>\n",
       "    <tr>\n",
       "      <td>2019-08-20 22:45:00</td>\n",
       "      <td>0.66276</td>\n",
       "      <td>0.66282</td>\n",
       "      <td>0.66254</td>\n",
       "      <td>0.66261</td>\n",
       "      <td>456.0</td>\n",
       "    </tr>\n",
       "    <tr>\n",
       "      <td>2019-08-20 23:00:00</td>\n",
       "      <td>0.66261</td>\n",
       "      <td>0.66270</td>\n",
       "      <td>0.66250</td>\n",
       "      <td>0.66256</td>\n",
       "      <td>214.0</td>\n",
       "    </tr>\n",
       "    <tr>\n",
       "      <td>2019-08-20 23:15:00</td>\n",
       "      <td>0.66255</td>\n",
       "      <td>0.66288</td>\n",
       "      <td>0.66254</td>\n",
       "      <td>0.66266</td>\n",
       "      <td>326.0</td>\n",
       "    </tr>\n",
       "    <tr>\n",
       "      <td>2019-08-20 23:30:00</td>\n",
       "      <td>0.66266</td>\n",
       "      <td>0.66281</td>\n",
       "      <td>0.66253</td>\n",
       "      <td>0.66256</td>\n",
       "      <td>192.0</td>\n",
       "    </tr>\n",
       "    <tr>\n",
       "      <td>2019-08-20 23:45:00</td>\n",
       "      <td>0.66254</td>\n",
       "      <td>0.66264</td>\n",
       "      <td>0.66225</td>\n",
       "      <td>0.66252</td>\n",
       "      <td>312.0</td>\n",
       "    </tr>\n",
       "  </tbody>\n",
       "</table>\n",
       "<p>2112 rows × 5 columns</p>\n",
       "</div>"
      ],
      "text/plain": [
       "                        Open     High      Low    Close  Volume\n",
       "Timestamp                                                      \n",
       "2019-07-22 00:00:00  0.69208  0.69241  0.69173  0.69213    58.0\n",
       "2019-07-22 00:15:00  0.69208  0.69240  0.69124  0.69203   187.0\n",
       "2019-07-22 00:30:00  0.69209  0.69253  0.69167  0.69171   411.0\n",
       "2019-07-22 00:45:00  0.69199  0.69232  0.69143  0.69185   182.0\n",
       "2019-07-22 01:00:00  0.69209  0.69222  0.69142  0.69153   267.0\n",
       "...                      ...      ...      ...      ...     ...\n",
       "2019-08-20 22:45:00  0.66276  0.66282  0.66254  0.66261   456.0\n",
       "2019-08-20 23:00:00  0.66261  0.66270  0.66250  0.66256   214.0\n",
       "2019-08-20 23:15:00  0.66255  0.66288  0.66254  0.66266   326.0\n",
       "2019-08-20 23:30:00  0.66266  0.66281  0.66253  0.66256   192.0\n",
       "2019-08-20 23:45:00  0.66254  0.66264  0.66225  0.66252   312.0\n",
       "\n",
       "[2112 rows x 5 columns]"
      ]
     },
     "execution_count": 9,
     "metadata": {},
     "output_type": "execute_result"
    }
   ],
   "source": [
    "portfolio[\"AUDCHF\"][Timeframes.M15].df"
   ]
  },
  {
   "cell_type": "markdown",
   "metadata": {},
   "source": [
    "## Symbol information\n",
    "\n",
    "We can load all of the symbol information for all symbols in the portfolio at once using the \n",
    "This information is currently obtained from the MT5, storing it in a csv file with name: \n",
    "- Symbol_info.csv\n"
   ]
  },
  {
   "cell_type": "code",
   "execution_count": 10,
   "metadata": {},
   "outputs": [
    {
     "data": {
      "text/html": [
       "<div>\n",
       "<style scoped>\n",
       "    .dataframe tbody tr th:only-of-type {\n",
       "        vertical-align: middle;\n",
       "    }\n",
       "\n",
       "    .dataframe tbody tr th {\n",
       "        vertical-align: top;\n",
       "    }\n",
       "\n",
       "    .dataframe thead th {\n",
       "        text-align: right;\n",
       "    }\n",
       "</style>\n",
       "<table border=\"1\" class=\"dataframe\">\n",
       "  <thead>\n",
       "    <tr style=\"text-align: right;\">\n",
       "      <th></th>\n",
       "      <th>point_size</th>\n",
       "      <th>min_tick_value</th>\n",
       "      <th>contract_size</th>\n",
       "      <th>currency</th>\n",
       "    </tr>\n",
       "    <tr>\n",
       "      <th>symbol_name</th>\n",
       "      <th></th>\n",
       "      <th></th>\n",
       "      <th></th>\n",
       "      <th></th>\n",
       "    </tr>\n",
       "  </thead>\n",
       "  <tbody>\n",
       "    <tr>\n",
       "      <td>EURUSD</td>\n",
       "      <td>0.00001</td>\n",
       "      <td>1.000000</td>\n",
       "      <td>100000.0</td>\n",
       "      <td>EUR</td>\n",
       "    </tr>\n",
       "    <tr>\n",
       "      <td>GBPUSD</td>\n",
       "      <td>0.00001</td>\n",
       "      <td>1.000000</td>\n",
       "      <td>100000.0</td>\n",
       "      <td>GBP</td>\n",
       "    </tr>\n",
       "    <tr>\n",
       "      <td>USDCHF</td>\n",
       "      <td>0.00001</td>\n",
       "      <td>1.007953</td>\n",
       "      <td>100000.0</td>\n",
       "      <td>USD</td>\n",
       "    </tr>\n",
       "    <tr>\n",
       "      <td>USDJPY</td>\n",
       "      <td>0.00100</td>\n",
       "      <td>0.921065</td>\n",
       "      <td>100000.0</td>\n",
       "      <td>USD</td>\n",
       "    </tr>\n",
       "    <tr>\n",
       "      <td>USDCNH</td>\n",
       "      <td>0.00001</td>\n",
       "      <td>0.141396</td>\n",
       "      <td>100000.0</td>\n",
       "      <td>USD</td>\n",
       "    </tr>\n",
       "    <tr>\n",
       "      <td>...</td>\n",
       "      <td>...</td>\n",
       "      <td>...</td>\n",
       "      <td>...</td>\n",
       "      <td>...</td>\n",
       "    </tr>\n",
       "    <tr>\n",
       "      <td>NZDCHF</td>\n",
       "      <td>0.00001</td>\n",
       "      <td>1.007953</td>\n",
       "      <td>100000.0</td>\n",
       "      <td>NZD</td>\n",
       "    </tr>\n",
       "    <tr>\n",
       "      <td>NZDJPY</td>\n",
       "      <td>0.00100</td>\n",
       "      <td>0.921065</td>\n",
       "      <td>100000.0</td>\n",
       "      <td>NZD</td>\n",
       "    </tr>\n",
       "    <tr>\n",
       "      <td>NZDSGD</td>\n",
       "      <td>0.00001</td>\n",
       "      <td>0.733541</td>\n",
       "      <td>100000.0</td>\n",
       "      <td>NZD</td>\n",
       "    </tr>\n",
       "    <tr>\n",
       "      <td>SGDJPY</td>\n",
       "      <td>0.00100</td>\n",
       "      <td>0.921065</td>\n",
       "      <td>100000.0</td>\n",
       "      <td>SGD</td>\n",
       "    </tr>\n",
       "    <tr>\n",
       "      <td>USDGEL</td>\n",
       "      <td>0.00010</td>\n",
       "      <td>3.729673</td>\n",
       "      <td>100000.0</td>\n",
       "      <td>USD</td>\n",
       "    </tr>\n",
       "  </tbody>\n",
       "</table>\n",
       "<p>64 rows × 4 columns</p>\n",
       "</div>"
      ],
      "text/plain": [
       "             point_size  min_tick_value  contract_size currency\n",
       "symbol_name                                                    \n",
       "EURUSD          0.00001        1.000000       100000.0      EUR\n",
       "GBPUSD          0.00001        1.000000       100000.0      GBP\n",
       "USDCHF          0.00001        1.007953       100000.0      USD\n",
       "USDJPY          0.00100        0.921065       100000.0      USD\n",
       "USDCNH          0.00001        0.141396       100000.0      USD\n",
       "...                 ...             ...            ...      ...\n",
       "NZDCHF          0.00001        1.007953       100000.0      NZD\n",
       "NZDJPY          0.00100        0.921065       100000.0      NZD\n",
       "NZDSGD          0.00001        0.733541       100000.0      NZD\n",
       "SGDJPY          0.00100        0.921065       100000.0      SGD\n",
       "USDGEL          0.00010        3.729673       100000.0      USD\n",
       "\n",
       "[64 rows x 4 columns]"
      ]
     },
     "execution_count": 10,
     "metadata": {},
     "output_type": "execute_result"
    }
   ],
   "source": [
    "symbols_properties_df = Symbol.load_symbols_properties_csv(storage_folder)\n",
    "symbols_properties_df"
   ]
  },
  {
   "cell_type": "code",
   "execution_count": 11,
   "metadata": {},
   "outputs": [],
   "source": [
    "portfolio.load_symbols_properties_from_df(symbols_properties_df)"
   ]
  },
  {
   "cell_type": "markdown",
   "metadata": {},
   "source": [
    "## Estimating market hours "
   ]
  },
  {
   "cell_type": "code",
   "execution_count": 12,
   "metadata": {},
   "outputs": [],
   "source": [
    "portfolio.estimate_symbols_market_hours()"
   ]
  },
  {
   "cell_type": "markdown",
   "metadata": {},
   "source": [
    "## The map_timeframe() method\n",
    "\n",
    "Sometimes we want to compute the same function to the Velas objects of all the symbols in a portfolio and gather their output in a join pandas DataFrame. This is exactly what the map_timeframe() method does."
   ]
  },
  {
   "cell_type": "code",
   "execution_count": 16,
   "metadata": {},
   "outputs": [
    {
     "data": {
      "text/html": [
       "<div>\n",
       "<style scoped>\n",
       "    .dataframe tbody tr th:only-of-type {\n",
       "        vertical-align: middle;\n",
       "    }\n",
       "\n",
       "    .dataframe tbody tr th {\n",
       "        vertical-align: top;\n",
       "    }\n",
       "\n",
       "    .dataframe thead th {\n",
       "        text-align: right;\n",
       "    }\n",
       "</style>\n",
       "<table border=\"1\" class=\"dataframe\">\n",
       "  <thead>\n",
       "    <tr style=\"text-align: right;\">\n",
       "      <th></th>\n",
       "      <th>AUDCHF</th>\n",
       "      <th>AUDCAD</th>\n",
       "    </tr>\n",
       "    <tr>\n",
       "      <th>Timestamp</th>\n",
       "      <th></th>\n",
       "      <th></th>\n",
       "    </tr>\n",
       "  </thead>\n",
       "  <tbody>\n",
       "    <tr>\n",
       "      <td>2019-07-22 00:00:00</td>\n",
       "      <td>NaN</td>\n",
       "      <td>NaN</td>\n",
       "    </tr>\n",
       "    <tr>\n",
       "      <td>2019-07-22 00:15:00</td>\n",
       "      <td>NaN</td>\n",
       "      <td>NaN</td>\n",
       "    </tr>\n",
       "    <tr>\n",
       "      <td>2019-07-22 00:30:00</td>\n",
       "      <td>NaN</td>\n",
       "      <td>NaN</td>\n",
       "    </tr>\n",
       "    <tr>\n",
       "      <td>2019-07-22 00:45:00</td>\n",
       "      <td>NaN</td>\n",
       "      <td>NaN</td>\n",
       "    </tr>\n",
       "    <tr>\n",
       "      <td>2019-07-22 01:00:00</td>\n",
       "      <td>NaN</td>\n",
       "      <td>NaN</td>\n",
       "    </tr>\n",
       "    <tr>\n",
       "      <td>...</td>\n",
       "      <td>...</td>\n",
       "      <td>...</td>\n",
       "    </tr>\n",
       "    <tr>\n",
       "      <td>2019-08-20 22:45:00</td>\n",
       "      <td>0.662759</td>\n",
       "      <td>0.902524</td>\n",
       "    </tr>\n",
       "    <tr>\n",
       "      <td>2019-08-20 23:00:00</td>\n",
       "      <td>0.662724</td>\n",
       "      <td>0.902492</td>\n",
       "    </tr>\n",
       "    <tr>\n",
       "      <td>2019-08-20 23:15:00</td>\n",
       "      <td>0.662710</td>\n",
       "      <td>0.902504</td>\n",
       "    </tr>\n",
       "    <tr>\n",
       "      <td>2019-08-20 23:30:00</td>\n",
       "      <td>0.662706</td>\n",
       "      <td>0.902509</td>\n",
       "    </tr>\n",
       "    <tr>\n",
       "      <td>2019-08-20 23:45:00</td>\n",
       "      <td>0.662673</td>\n",
       "      <td>0.902480</td>\n",
       "    </tr>\n",
       "  </tbody>\n",
       "</table>\n",
       "<p>2112 rows × 2 columns</p>\n",
       "</div>"
      ],
      "text/plain": [
       "                       AUDCHF    AUDCAD\n",
       "Timestamp                              \n",
       "2019-07-22 00:00:00       NaN       NaN\n",
       "2019-07-22 00:15:00       NaN       NaN\n",
       "2019-07-22 00:30:00       NaN       NaN\n",
       "2019-07-22 00:45:00       NaN       NaN\n",
       "2019-07-22 01:00:00       NaN       NaN\n",
       "...                       ...       ...\n",
       "2019-08-20 22:45:00  0.662759  0.902524\n",
       "2019-08-20 23:00:00  0.662724  0.902492\n",
       "2019-08-20 23:15:00  0.662710  0.902504\n",
       "2019-08-20 23:30:00  0.662706  0.902509\n",
       "2019-08-20 23:45:00  0.662673  0.902480\n",
       "\n",
       "[2112 rows x 2 columns]"
      ]
     },
     "execution_count": 16,
     "metadata": {},
     "output_type": "execute_result"
    }
   ],
   "source": [
    "portfolio.map_timeframe(timeframe = Timeframes.M15, method_name = \"indicator\", name = \"SMA\", n = 10)"
   ]
  },
  {
   "cell_type": "code",
   "execution_count": 18,
   "metadata": {},
   "outputs": [
    {
     "data": {
      "text/html": [
       "<div>\n",
       "<style scoped>\n",
       "    .dataframe tbody tr th:only-of-type {\n",
       "        vertical-align: middle;\n",
       "    }\n",
       "\n",
       "    .dataframe tbody tr th {\n",
       "        vertical-align: top;\n",
       "    }\n",
       "\n",
       "    .dataframe thead th {\n",
       "        text-align: right;\n",
       "    }\n",
       "</style>\n",
       "<table border=\"1\" class=\"dataframe\">\n",
       "  <thead>\n",
       "    <tr style=\"text-align: right;\">\n",
       "      <th></th>\n",
       "      <th>AUDCHF</th>\n",
       "      <th>AUDCAD</th>\n",
       "    </tr>\n",
       "    <tr>\n",
       "      <th>Timestamp</th>\n",
       "      <th></th>\n",
       "      <th></th>\n",
       "    </tr>\n",
       "  </thead>\n",
       "  <tbody>\n",
       "    <tr>\n",
       "      <td>2019-07-22 00:00:00</td>\n",
       "      <td>58.0</td>\n",
       "      <td>30.0</td>\n",
       "    </tr>\n",
       "    <tr>\n",
       "      <td>2019-07-22 00:15:00</td>\n",
       "      <td>187.0</td>\n",
       "      <td>266.0</td>\n",
       "    </tr>\n",
       "    <tr>\n",
       "      <td>2019-07-22 00:30:00</td>\n",
       "      <td>411.0</td>\n",
       "      <td>341.0</td>\n",
       "    </tr>\n",
       "    <tr>\n",
       "      <td>2019-07-22 00:45:00</td>\n",
       "      <td>182.0</td>\n",
       "      <td>263.0</td>\n",
       "    </tr>\n",
       "    <tr>\n",
       "      <td>2019-07-22 01:00:00</td>\n",
       "      <td>267.0</td>\n",
       "      <td>335.0</td>\n",
       "    </tr>\n",
       "    <tr>\n",
       "      <td>...</td>\n",
       "      <td>...</td>\n",
       "      <td>...</td>\n",
       "    </tr>\n",
       "    <tr>\n",
       "      <td>2019-08-20 22:45:00</td>\n",
       "      <td>456.0</td>\n",
       "      <td>409.0</td>\n",
       "    </tr>\n",
       "    <tr>\n",
       "      <td>2019-08-20 23:00:00</td>\n",
       "      <td>214.0</td>\n",
       "      <td>209.0</td>\n",
       "    </tr>\n",
       "    <tr>\n",
       "      <td>2019-08-20 23:15:00</td>\n",
       "      <td>326.0</td>\n",
       "      <td>182.0</td>\n",
       "    </tr>\n",
       "    <tr>\n",
       "      <td>2019-08-20 23:30:00</td>\n",
       "      <td>192.0</td>\n",
       "      <td>214.0</td>\n",
       "    </tr>\n",
       "    <tr>\n",
       "      <td>2019-08-20 23:45:00</td>\n",
       "      <td>312.0</td>\n",
       "      <td>296.0</td>\n",
       "    </tr>\n",
       "  </tbody>\n",
       "</table>\n",
       "<p>2112 rows × 2 columns</p>\n",
       "</div>"
      ],
      "text/plain": [
       "                     AUDCHF  AUDCAD\n",
       "Timestamp                          \n",
       "2019-07-22 00:00:00    58.0    30.0\n",
       "2019-07-22 00:15:00   187.0   266.0\n",
       "2019-07-22 00:30:00   411.0   341.0\n",
       "2019-07-22 00:45:00   182.0   263.0\n",
       "2019-07-22 01:00:00   267.0   335.0\n",
       "...                     ...     ...\n",
       "2019-08-20 22:45:00   456.0   409.0\n",
       "2019-08-20 23:00:00   214.0   209.0\n",
       "2019-08-20 23:15:00   326.0   182.0\n",
       "2019-08-20 23:30:00   192.0   214.0\n",
       "2019-08-20 23:45:00   312.0   296.0\n",
       "\n",
       "[2112 rows x 2 columns]"
      ]
     },
     "execution_count": 18,
     "metadata": {},
     "output_type": "execute_result"
    }
   ],
   "source": [
    "portfolio.map_timeframe(timeframe = Timeframes.M15, method_name = \"series\", name = \"Volume\")"
   ]
  },
  {
   "cell_type": "markdown",
   "metadata": {},
   "source": [
    "## Filtering symbols\n",
    "\n",
    "There is a set of functionalities to obtain a subset of symbol_names_list with certain properties:\n"
   ]
  },
  {
   "cell_type": "code",
   "execution_count": 20,
   "metadata": {},
   "outputs": [
    {
     "data": {
      "text/plain": [
       "['AUDCAD']"
      ]
     },
     "execution_count": 20,
     "metadata": {},
     "output_type": "execute_result"
    }
   ],
   "source": [
    "portfolio.get_related_forex_currencies(\"CAD\")"
   ]
  },
  {
   "cell_type": "code",
   "execution_count": 21,
   "metadata": {},
   "outputs": [
    {
     "data": {
      "text/plain": [
       "['AUDCHF', 'AUDCAD']"
      ]
     },
     "execution_count": 21,
     "metadata": {},
     "output_type": "execute_result"
    }
   ],
   "source": [
    "portfolio.get_currencies_with_market_hours(open_time = dt.time(0), close_time = dt.time(0))"
   ]
  },
  {
   "cell_type": "code",
   "execution_count": 23,
   "metadata": {},
   "outputs": [
    {
     "data": {
      "text/plain": [
       "['AUDCHF', 'AUDCAD']"
      ]
     },
     "execution_count": 23,
     "metadata": {},
     "output_type": "execute_result"
    }
   ],
   "source": [
    "portfolio.get_non_empty(Timeframes.M15)"
   ]
  },
  {
   "cell_type": "markdown",
   "metadata": {},
   "source": [
    "## Getting a subportfolio\n",
    "\n",
    "We can obtain a smaller version of a given porfolio, with a subselection of symbol_names and timeframes. \n",
    "\n",
    "Notice: The vectorial information does not change, the pointers. We only create new values for the portfolios basic types.\n"
   ]
  },
  {
   "cell_type": "code",
   "execution_count": 25,
   "metadata": {},
   "outputs": [],
   "source": [
    "subportfolio = portfolio.get_subportfolio(symbol_names_list = [\"AUDCHF\"], timeframes_list = [Timeframes.M15])"
   ]
  },
  {
   "cell_type": "code",
   "execution_count": 26,
   "metadata": {},
   "outputs": [
    {
     "data": {
      "text/plain": [
       "['AUDCHF']"
      ]
     },
     "execution_count": 26,
     "metadata": {},
     "output_type": "execute_result"
    }
   ],
   "source": [
    "subportfolio.symbol_names_list"
   ]
  },
  {
   "cell_type": "code",
   "execution_count": null,
   "metadata": {},
   "outputs": [],
   "source": [
    "subportfolio[]"
   ]
  },
  {
   "cell_type": "markdown",
   "metadata": {},
   "source": [
    "## Unwrapping the object\n",
    "\n",
    "The following shows the unwrap of a Velas object. In it, you can appreciate that:\n",
    " - The start and end time of the interval are not stored at symbol level, just at velas level. This allows different timesticks to have different intervals.\n",
    " - The properties object contains all of the static information regarding the symbol, except for the market hours.\n",
    " - The MarketHours object contains the information about open market hours"
   ]
  },
  {
   "cell_type": "code",
   "execution_count": 13,
   "metadata": {},
   "outputs": [
    {
     "name": "stdout",
     "output_type": "stream",
     "text": [
      "<Portfolio>\tportfolio has children:\n",
      "    <dict>\t_symbols_dict\n",
      "    <datetime>\tstart_time:\t2019-07-20 00:00:00\n",
      "    <datetime>\tend_time:\t2019-08-20 00:00:00\n",
      "\n",
      "  <dict>\t_symbols_dict has children:\n",
      "      <Symbol>\tAUDCHF\n",
      "      <Symbol>\tAUDCAD\n",
      "\n",
      "    <Symbol>\tAUDCAD has children:\n",
      "        <str>\tsymbol_name:\tAUDCAD\n",
      "        <dict>\t_velas_dict\n",
      "        <SymbolProperties>\tproperties\n",
      "        <MarketHours>\tmarket_hours\n",
      "        <datetime>\tstart_time:\t2019-07-20 00:00:00\n",
      "        <datetime>\tend_time:\t2019-08-20 00:00:00\n",
      "\n",
      "      <MarketHours>\tmarket_hours has children:\n",
      "          <time>\topen_time:\t00:00:00\n",
      "          <time>\tclose_time:\t00:00:00\n",
      "          <list>\ttrading_days_list\n",
      "          <dict>\tspecial_days_dict\n",
      "\n",
      "        <dict>\tspecial_days_dict has children:\n",
      "\n",
      "        <list>\ttrading_days_list has children:\n",
      "            <int>\ttrading_days_list[0]:\t0\n",
      "            <int>\ttrading_days_list[1]:\t1\n",
      "            <int>\ttrading_days_list[2]:\t2\n",
      "            <int>\ttrading_days_list[3]:\t3\n",
      "            <int>\ttrading_days_list[4]:\t4\n",
      "\n",
      "      <SymbolProperties>\tproperties has children:\n",
      "          <str>\tsymbol_name:\tAUDCAD\n",
      "          <NoneType>\ttype:\tNone\n",
      "          <NoneType>\tcountry:\tNone\n",
      "          <str>\tcurrency:\tAUD\n",
      "          <NoneType>\tsector:\tNone\n",
      "          <float>\tcontract_size:\t100000.0\n",
      "          <float>\tpoint_size:\t1e-05\n",
      "          <float>\tmin_tick_value:\t0.76521633\n",
      "\n",
      "      <dict>\t_velas_dict has children:\n",
      "          <Velas>\tTimeframes.M15\n",
      "          <Velas>\tTimeframes.D1\n",
      "\n",
      "        <Velas>\tTimeframes.D1 has children:\n",
      "            <str>\tsymbol_name:\tAUDCAD\n",
      "            <Timeframes>\ttimeframe:\tTimeframes.D1\n",
      "            <Timestamp>\tstart_time:\t2019-07-20 00:00:00\n",
      "            <Timestamp>\tend_time:\t2019-08-20 00:00:00\n",
      "            <ndarray>\t_time_mask:\t[4933 4934 4935 4936 4937 4938 4939 4940\n",
      "            <DataFrame>\t_df\n",
      "            <bool>\t_trimmed:\tFalse\n",
      "\n",
      "          <DataFrame>\t_df has children:\n",
      "              <str>\tcolumns:\t['Open', 'High', 'Low', 'Close', 'Volume\n",
      "              <DatetimeIndex>\tindex:\tDatetimeIndex(['2000-06-29', '2000-06-30\n",
      "\n",
      "        <Velas>\tTimeframes.M15 has children:\n",
      "            <str>\tsymbol_name:\tAUDCAD\n",
      "            <Timeframes>\ttimeframe:\tTimeframes.M15\n",
      "            <Timestamp>\tstart_time:\t2019-07-20 00:00:00\n",
      "            <Timestamp>\tend_time:\t2019-08-20 00:00:00\n",
      "            <ndarray>\t_time_mask:\t[96615 96616 96617 ... 98724 98725 98726\n",
      "            <DataFrame>\t_df\n",
      "            <bool>\t_trimmed:\tFalse\n",
      "\n",
      "          <DataFrame>\t_df has children:\n",
      "              <str>\tcolumns:\t['Open', 'High', 'Low', 'Close', 'Volume\n",
      "              <DatetimeIndex>\tindex:\tDatetimeIndex(['2015-08-17 14:15:00', '2\n",
      "\n",
      "    <Symbol>\tAUDCHF has children:\n",
      "        <str>\tsymbol_name:\tAUDCHF\n",
      "        <dict>\t_velas_dict\n",
      "        <SymbolProperties>\tproperties\n",
      "        <MarketHours>\tmarket_hours\n",
      "        <datetime>\tstart_time:\t2019-07-20 00:00:00\n",
      "        <datetime>\tend_time:\t2019-08-20 00:00:00\n",
      "\n",
      "      <MarketHours>\tmarket_hours has children:\n",
      "          <time>\topen_time:\t00:00:00\n",
      "          <time>\tclose_time:\t00:00:00\n",
      "          <list>\ttrading_days_list\n",
      "          <dict>\tspecial_days_dict\n",
      "\n",
      "        <dict>\tspecial_days_dict has children:\n",
      "\n",
      "        <list>\ttrading_days_list has children:\n",
      "            <int>\ttrading_days_list[0]:\t0\n",
      "            <int>\ttrading_days_list[1]:\t1\n",
      "            <int>\ttrading_days_list[2]:\t2\n",
      "            <int>\ttrading_days_list[3]:\t3\n",
      "            <int>\ttrading_days_list[4]:\t4\n",
      "\n",
      "      <SymbolProperties>\tproperties has children:\n",
      "          <str>\tsymbol_name:\tAUDCHF\n",
      "          <NoneType>\ttype:\tNone\n",
      "          <NoneType>\tcountry:\tNone\n",
      "          <str>\tcurrency:\tAUD\n",
      "          <NoneType>\tsector:\tNone\n",
      "          <float>\tcontract_size:\t100000.0\n",
      "          <float>\tpoint_size:\t1e-05\n",
      "          <float>\tmin_tick_value:\t1.00795275\n",
      "\n",
      "      <dict>\t_velas_dict has children:\n",
      "          <Velas>\tTimeframes.M15\n",
      "          <Velas>\tTimeframes.D1\n",
      "\n",
      "        <Velas>\tTimeframes.D1 has children:\n",
      "            <str>\tsymbol_name:\tAUDCHF\n",
      "            <Timeframes>\ttimeframe:\tTimeframes.D1\n",
      "            <Timestamp>\tstart_time:\t2019-07-20 00:00:00\n",
      "            <Timestamp>\tend_time:\t2019-08-20 00:00:00\n",
      "            <ndarray>\t_time_mask:\t[4864 4865 4866 4867 4868 4869 4870 4871\n",
      "            <DataFrame>\t_df\n",
      "            <bool>\t_trimmed:\tFalse\n",
      "\n",
      "          <DataFrame>\t_df has children:\n",
      "              <str>\tcolumns:\t['Open', 'High', 'Low', 'Close', 'Volume\n",
      "              <DatetimeIndex>\tindex:\tDatetimeIndex(['2000-06-29', '2000-06-30\n",
      "\n",
      "        <Velas>\tTimeframes.M15 has children:\n",
      "            <str>\tsymbol_name:\tAUDCHF\n",
      "            <Timeframes>\ttimeframe:\tTimeframes.M15\n",
      "            <Timestamp>\tstart_time:\t2019-07-20 00:00:00\n",
      "            <Timestamp>\tend_time:\t2019-08-20 00:00:00\n",
      "            <ndarray>\t_time_mask:\t[97532 97533 97534 ... 99641 99642 99643\n",
      "            <DataFrame>\t_df\n",
      "            <bool>\t_trimmed:\tFalse\n",
      "\n",
      "          <DataFrame>\t_df has children:\n",
      "              <str>\tcolumns:\t['Open', 'High', 'Low', 'Close', 'Volume\n",
      "              <DatetimeIndex>\tindex:\tDatetimeIndex(['2015-08-14 23:45:00', '2\n",
      "\n",
      "\n"
     ]
    }
   ],
   "source": [
    "unwrap(portfolio, \"portfolio\")"
   ]
  },
  {
   "cell_type": "markdown",
   "metadata": {},
   "source": [
    "## Indicators\n",
    "\n",
    "The *Portfolio* class only implements indicators that need several candlestick data at timeframes to be computed. In order to obtain indicators for a given timeframe, use the Velas objects directly. \n",
    "\n",
    "NO INDICATORS IMPLEMENTED SO FAR\n",
    "\n",
    "The interface for accessing"
   ]
  },
  {
   "cell_type": "code",
   "execution_count": null,
   "metadata": {},
   "outputs": [],
   "source": []
  },
  {
   "cell_type": "markdown",
   "metadata": {},
   "source": [
    "## Plottings\n",
    "\n",
    "Like with the indicators, we only implement plotting functions that require different timeframes.\n",
    "\n",
    "NO IMPLEMENTATION SO FAR"
   ]
  },
  {
   "cell_type": "code",
   "execution_count": null,
   "metadata": {},
   "outputs": [],
   "source": []
  }
 ],
 "metadata": {
  "kernelspec": {
   "display_name": "Python 3",
   "language": "python",
   "name": "python3"
  },
  "language_info": {
   "codemirror_mode": {
    "name": "ipython",
    "version": 3
   },
   "file_extension": ".py",
   "mimetype": "text/x-python",
   "name": "python",
   "nbconvert_exporter": "python",
   "pygments_lexer": "ipython3",
   "version": "3.7.4"
  }
 },
 "nbformat": 4,
 "nbformat_minor": 2
}
