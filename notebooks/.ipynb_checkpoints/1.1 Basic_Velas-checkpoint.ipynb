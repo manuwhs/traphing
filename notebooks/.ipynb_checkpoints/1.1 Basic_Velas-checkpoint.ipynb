{
 "cells": [
  {
   "cell_type": "markdown",
   "metadata": {},
   "source": [
    "## Velas class\n",
    "\n",
    "The Velas class provides a basic interface to interact with the OCHLV candlesticks from Technical Analysis data. An object of this class contains the candlestick data for a given symbol and timeframe in a pandas dataframe; and implements a set of functionalities for:\n",
    "<ul>   \n",
    "    <li> Loading and saving the raw candlestick data from different sources (CSV, SQL..)</li>\n",
    "    <li> Handling the data updating, missing data, separating trading sessions...</li>\n",
    "    <li> Basic financial indicators: returns, MAs, oscillators...</li>\n",
    "    <li> Basic plotting functions </li>\n",
    "</ul>    "
   ]
  },
  {
   "cell_type": "markdown",
   "metadata": {},
   "source": [
    "### Import libraries\n",
    "\n",
    "For running the example codes, we are going to import the following libraries:\n",
    "-  We import the needed standard libraries first. \n",
    "- Then we add the directory above path to the system so that when import the library. It will load the local version in the folder, instead of the version installed with pip. \n",
    "- Finally we load the classes, functions and enums from the library, which we are going to use."
   ]
  },
  {
   "cell_type": "code",
   "execution_count": null,
   "metadata": {},
   "outputs": [],
   "source": [
    "import datetime as dt\n",
    "import pandas as pd\n",
    "from IPython.display import Image\n",
    "%matplotlib qt\n",
    "\n",
    "import sys\n",
    "sys.path.append(\"..\") # Adds higher directory to python modules path.\n",
    "\n",
    "from traphing.data_classes import Velas\n",
    "from traphing.utils import Timeframes, unwrap\n",
    "from traphing.graph.Gl import gl"
   ]
  },
  {
   "cell_type": "markdown",
   "metadata": {},
   "source": [
    "## Creating a Velas instance\n",
    "When we create a Velas object, we need to specify the basic parameters of the candlestick data:\n",
    " - <b>symbol_name</b>: The name of the symbol given by the broker we are using (it can be different from broker to broker).\n",
    " -  <b>timeframe</b>: The timeframe of the candlesticks, i.e. M5, M15, D1... (using an Enum).\n",
    "\n",
    "No candlestick data is loaded when creating the object."
   ]
  },
  {
   "cell_type": "code",
   "execution_count": null,
   "metadata": {},
   "outputs": [],
   "source": [
    "symbol_name = \"AUDCHF\"\n",
    "timeframe = Timeframes.M15\n",
    "\n",
    "my_velas = Velas(symbol_name, timeframe)\n",
    "print (type(my_velas))"
   ]
  },
  {
   "cell_type": "code",
   "execution_count": null,
   "metadata": {},
   "outputs": [],
   "source": [
    "my_velas.df"
   ]
  },
  {
   "cell_type": "markdown",
   "metadata": {},
   "source": [
    "## Loading candlestick data\n",
    "\n",
    "The candlestick data can be provided from different sources:\n",
    " - Pandas dataframe.\n",
    " - CSV files.\n",
    " - SQL database.\n",
    " \n",
    "No matter what the source of the data is, the candlesticks are stored within the Velas object as rows in a pandas DataFrame, which has the timestamp of the candlesticks as index."
   ]
  },
  {
   "cell_type": "markdown",
   "metadata": {},
   "source": [
    "### From CSV\n",
    "\n",
    "The CSV files that are loaded/saved using the Velas in-built functions follow the following naming convention:\n",
    "Given a root folder storage_folder, the data for a given symbol_name and timeframe is stored in expected to be located and will be saved to the path:\n",
    "- {storage_folder}/{timedrame}/{symbol_name}_{timeframe}.csv"
   ]
  },
  {
   "cell_type": "code",
   "execution_count": null,
   "metadata": {},
   "outputs": [],
   "source": [
    "storage_folder = \"../tests/data/storage/\"\n",
    "my_velas.load_data_from_csv(storage_folder)"
   ]
  },
  {
   "cell_type": "code",
   "execution_count": null,
   "metadata": {},
   "outputs": [],
   "source": [
    "my_velas.save_to_csv()\n",
    "my_velas.update_csv()\n",
    "# Maybe put them in other place"
   ]
  },
  {
   "cell_type": "markdown",
   "metadata": {},
   "source": [
    "## Pandas DataFrame data\n",
    "Once the data has been populated loaded we can access the basic information through the attributes:\n",
    "- df: The pandas DataFrame\n",
    "- timestamps: The index of the pandas DataFrame\n",
    "\n",
    "The timstamo is obtained from the index of the pandas dataframe. \n",
    "The time"
   ]
  },
  {
   "cell_type": "code",
   "execution_count": 5,
   "metadata": {},
   "outputs": [
    {
     "data": {
      "text/html": [
       "<div>\n",
       "<style scoped>\n",
       "    .dataframe tbody tr th:only-of-type {\n",
       "        vertical-align: middle;\n",
       "    }\n",
       "\n",
       "    .dataframe tbody tr th {\n",
       "        vertical-align: top;\n",
       "    }\n",
       "\n",
       "    .dataframe thead th {\n",
       "        text-align: right;\n",
       "    }\n",
       "</style>\n",
       "<table border=\"1\" class=\"dataframe\">\n",
       "  <thead>\n",
       "    <tr style=\"text-align: right;\">\n",
       "      <th></th>\n",
       "      <th>Open</th>\n",
       "      <th>High</th>\n",
       "      <th>Low</th>\n",
       "      <th>Close</th>\n",
       "      <th>Volume</th>\n",
       "    </tr>\n",
       "    <tr>\n",
       "      <th>Date</th>\n",
       "      <th></th>\n",
       "      <th></th>\n",
       "      <th></th>\n",
       "      <th></th>\n",
       "      <th></th>\n",
       "    </tr>\n",
       "  </thead>\n",
       "  <tbody>\n",
       "    <tr>\n",
       "      <td>2015-08-14 23:45:00</td>\n",
       "      <td>0.71976</td>\n",
       "      <td>0.72021</td>\n",
       "      <td>0.71930</td>\n",
       "      <td>0.71937</td>\n",
       "      <td>592.0</td>\n",
       "    </tr>\n",
       "    <tr>\n",
       "      <td>2015-08-17 00:00:00</td>\n",
       "      <td>0.71934</td>\n",
       "      <td>0.72001</td>\n",
       "      <td>0.71934</td>\n",
       "      <td>0.71991</td>\n",
       "      <td>56.0</td>\n",
       "    </tr>\n",
       "    <tr>\n",
       "      <td>2015-08-17 00:15:00</td>\n",
       "      <td>0.71992</td>\n",
       "      <td>0.72003</td>\n",
       "      <td>0.71867</td>\n",
       "      <td>0.71999</td>\n",
       "      <td>181.0</td>\n",
       "    </tr>\n",
       "    <tr>\n",
       "      <td>2015-08-17 00:30:00</td>\n",
       "      <td>0.71999</td>\n",
       "      <td>0.72034</td>\n",
       "      <td>0.71966</td>\n",
       "      <td>0.71983</td>\n",
       "      <td>124.0</td>\n",
       "    </tr>\n",
       "    <tr>\n",
       "      <td>2015-08-17 00:45:00</td>\n",
       "      <td>0.71985</td>\n",
       "      <td>0.72025</td>\n",
       "      <td>0.71975</td>\n",
       "      <td>0.71978</td>\n",
       "      <td>81.0</td>\n",
       "    </tr>\n",
       "    <tr>\n",
       "      <td>...</td>\n",
       "      <td>...</td>\n",
       "      <td>...</td>\n",
       "      <td>...</td>\n",
       "      <td>...</td>\n",
       "      <td>...</td>\n",
       "    </tr>\n",
       "    <tr>\n",
       "      <td>2019-08-30 19:45:00</td>\n",
       "      <td>0.66637</td>\n",
       "      <td>0.66637</td>\n",
       "      <td>0.66599</td>\n",
       "      <td>0.66606</td>\n",
       "      <td>521.0</td>\n",
       "    </tr>\n",
       "    <tr>\n",
       "      <td>2019-08-30 20:00:00</td>\n",
       "      <td>0.66606</td>\n",
       "      <td>0.66615</td>\n",
       "      <td>0.66581</td>\n",
       "      <td>0.66592</td>\n",
       "      <td>825.0</td>\n",
       "    </tr>\n",
       "    <tr>\n",
       "      <td>2019-08-30 20:15:00</td>\n",
       "      <td>0.66591</td>\n",
       "      <td>0.66628</td>\n",
       "      <td>0.66579</td>\n",
       "      <td>0.66597</td>\n",
       "      <td>961.0</td>\n",
       "    </tr>\n",
       "    <tr>\n",
       "      <td>2019-08-30 20:30:00</td>\n",
       "      <td>0.66597</td>\n",
       "      <td>0.66628</td>\n",
       "      <td>0.66574</td>\n",
       "      <td>0.66606</td>\n",
       "      <td>1118.0</td>\n",
       "    </tr>\n",
       "    <tr>\n",
       "      <td>2019-08-30 20:45:00</td>\n",
       "      <td>0.66606</td>\n",
       "      <td>0.66626</td>\n",
       "      <td>0.66593</td>\n",
       "      <td>0.66601</td>\n",
       "      <td>852.0</td>\n",
       "    </tr>\n",
       "  </tbody>\n",
       "</table>\n",
       "<p>100400 rows × 5 columns</p>\n",
       "</div>"
      ],
      "text/plain": [
       "                        Open     High      Low    Close  Volume\n",
       "Date                                                           \n",
       "2015-08-14 23:45:00  0.71976  0.72021  0.71930  0.71937   592.0\n",
       "2015-08-17 00:00:00  0.71934  0.72001  0.71934  0.71991    56.0\n",
       "2015-08-17 00:15:00  0.71992  0.72003  0.71867  0.71999   181.0\n",
       "2015-08-17 00:30:00  0.71999  0.72034  0.71966  0.71983   124.0\n",
       "2015-08-17 00:45:00  0.71985  0.72025  0.71975  0.71978    81.0\n",
       "...                      ...      ...      ...      ...     ...\n",
       "2019-08-30 19:45:00  0.66637  0.66637  0.66599  0.66606   521.0\n",
       "2019-08-30 20:00:00  0.66606  0.66615  0.66581  0.66592   825.0\n",
       "2019-08-30 20:15:00  0.66591  0.66628  0.66579  0.66597   961.0\n",
       "2019-08-30 20:30:00  0.66597  0.66628  0.66574  0.66606  1118.0\n",
       "2019-08-30 20:45:00  0.66606  0.66626  0.66593  0.66601   852.0\n",
       "\n",
       "[100400 rows x 5 columns]"
      ]
     },
     "execution_count": 5,
     "metadata": {},
     "output_type": "execute_result"
    }
   ],
   "source": [
    "my_velas.df"
   ]
  },
  {
   "cell_type": "code",
   "execution_count": 6,
   "metadata": {},
   "outputs": [
    {
     "data": {
      "text/plain": [
       "DatetimeIndex(['2015-08-14 23:45:00', '2015-08-17 00:00:00',\n",
       "               '2015-08-17 00:15:00', '2015-08-17 00:30:00',\n",
       "               '2015-08-17 00:45:00', '2015-08-17 01:00:00',\n",
       "               '2015-08-17 01:15:00', '2015-08-17 01:30:00',\n",
       "               '2015-08-17 01:45:00', '2015-08-17 02:00:00',\n",
       "               ...\n",
       "               '2019-08-30 18:30:00', '2019-08-30 18:45:00',\n",
       "               '2019-08-30 19:00:00', '2019-08-30 19:15:00',\n",
       "               '2019-08-30 19:30:00', '2019-08-30 19:45:00',\n",
       "               '2019-08-30 20:00:00', '2019-08-30 20:15:00',\n",
       "               '2019-08-30 20:30:00', '2019-08-30 20:45:00'],\n",
       "              dtype='datetime64[ns]', name='Date', length=100400, freq=None)"
      ]
     },
     "execution_count": 6,
     "metadata": {},
     "output_type": "execute_result"
    }
   ],
   "source": [
    "my_velas.timestamps"
   ]
  },
  {
   "cell_type": "markdown",
   "metadata": {},
   "source": [
    "### Specifying a time interval\n",
    "\n",
    "When we load the candlestick data, any operation performed over the object will be applied to all its rows. If we just want to work with a subset of the candlesticks we can specify an interval with the set_time_interval() method specifying the parameters:\n",
    "- start_time: datetime object with the date\n",
    "- end_time: datetime object with the end date\n",
    "- trim: If true, it will remove all rows outside of the time interval. Otherwise it will create an internal binary mask which will be internally used when accessing df and dates to filter\n",
    "\n"
   ]
  },
  {
   "cell_type": "code",
   "execution_count": 7,
   "metadata": {},
   "outputs": [
    {
     "data": {
      "text/html": [
       "<div>\n",
       "<style scoped>\n",
       "    .dataframe tbody tr th:only-of-type {\n",
       "        vertical-align: middle;\n",
       "    }\n",
       "\n",
       "    .dataframe tbody tr th {\n",
       "        vertical-align: top;\n",
       "    }\n",
       "\n",
       "    .dataframe thead th {\n",
       "        text-align: right;\n",
       "    }\n",
       "</style>\n",
       "<table border=\"1\" class=\"dataframe\">\n",
       "  <thead>\n",
       "    <tr style=\"text-align: right;\">\n",
       "      <th></th>\n",
       "      <th>Open</th>\n",
       "      <th>High</th>\n",
       "      <th>Low</th>\n",
       "      <th>Close</th>\n",
       "      <th>Volume</th>\n",
       "    </tr>\n",
       "    <tr>\n",
       "      <th>Date</th>\n",
       "      <th></th>\n",
       "      <th></th>\n",
       "      <th></th>\n",
       "      <th></th>\n",
       "      <th></th>\n",
       "    </tr>\n",
       "  </thead>\n",
       "  <tbody>\n",
       "    <tr>\n",
       "      <td>2019-07-22 00:00:00</td>\n",
       "      <td>0.69208</td>\n",
       "      <td>0.69241</td>\n",
       "      <td>0.69173</td>\n",
       "      <td>0.69213</td>\n",
       "      <td>58.0</td>\n",
       "    </tr>\n",
       "    <tr>\n",
       "      <td>2019-07-22 00:15:00</td>\n",
       "      <td>0.69208</td>\n",
       "      <td>0.69240</td>\n",
       "      <td>0.69124</td>\n",
       "      <td>0.69203</td>\n",
       "      <td>187.0</td>\n",
       "    </tr>\n",
       "    <tr>\n",
       "      <td>2019-07-22 00:30:00</td>\n",
       "      <td>0.69209</td>\n",
       "      <td>0.69253</td>\n",
       "      <td>0.69167</td>\n",
       "      <td>0.69171</td>\n",
       "      <td>411.0</td>\n",
       "    </tr>\n",
       "    <tr>\n",
       "      <td>2019-07-22 00:45:00</td>\n",
       "      <td>0.69199</td>\n",
       "      <td>0.69232</td>\n",
       "      <td>0.69143</td>\n",
       "      <td>0.69185</td>\n",
       "      <td>182.0</td>\n",
       "    </tr>\n",
       "    <tr>\n",
       "      <td>2019-07-22 01:00:00</td>\n",
       "      <td>0.69209</td>\n",
       "      <td>0.69222</td>\n",
       "      <td>0.69142</td>\n",
       "      <td>0.69153</td>\n",
       "      <td>267.0</td>\n",
       "    </tr>\n",
       "    <tr>\n",
       "      <td>...</td>\n",
       "      <td>...</td>\n",
       "      <td>...</td>\n",
       "      <td>...</td>\n",
       "      <td>...</td>\n",
       "      <td>...</td>\n",
       "    </tr>\n",
       "    <tr>\n",
       "      <td>2019-08-20 22:45:00</td>\n",
       "      <td>0.66276</td>\n",
       "      <td>0.66282</td>\n",
       "      <td>0.66254</td>\n",
       "      <td>0.66261</td>\n",
       "      <td>456.0</td>\n",
       "    </tr>\n",
       "    <tr>\n",
       "      <td>2019-08-20 23:00:00</td>\n",
       "      <td>0.66261</td>\n",
       "      <td>0.66270</td>\n",
       "      <td>0.66250</td>\n",
       "      <td>0.66256</td>\n",
       "      <td>214.0</td>\n",
       "    </tr>\n",
       "    <tr>\n",
       "      <td>2019-08-20 23:15:00</td>\n",
       "      <td>0.66255</td>\n",
       "      <td>0.66288</td>\n",
       "      <td>0.66254</td>\n",
       "      <td>0.66266</td>\n",
       "      <td>326.0</td>\n",
       "    </tr>\n",
       "    <tr>\n",
       "      <td>2019-08-20 23:30:00</td>\n",
       "      <td>0.66266</td>\n",
       "      <td>0.66281</td>\n",
       "      <td>0.66253</td>\n",
       "      <td>0.66256</td>\n",
       "      <td>192.0</td>\n",
       "    </tr>\n",
       "    <tr>\n",
       "      <td>2019-08-20 23:45:00</td>\n",
       "      <td>0.66254</td>\n",
       "      <td>0.66264</td>\n",
       "      <td>0.66225</td>\n",
       "      <td>0.66252</td>\n",
       "      <td>312.0</td>\n",
       "    </tr>\n",
       "  </tbody>\n",
       "</table>\n",
       "<p>2112 rows × 5 columns</p>\n",
       "</div>"
      ],
      "text/plain": [
       "                        Open     High      Low    Close  Volume\n",
       "Date                                                           \n",
       "2019-07-22 00:00:00  0.69208  0.69241  0.69173  0.69213    58.0\n",
       "2019-07-22 00:15:00  0.69208  0.69240  0.69124  0.69203   187.0\n",
       "2019-07-22 00:30:00  0.69209  0.69253  0.69167  0.69171   411.0\n",
       "2019-07-22 00:45:00  0.69199  0.69232  0.69143  0.69185   182.0\n",
       "2019-07-22 01:00:00  0.69209  0.69222  0.69142  0.69153   267.0\n",
       "...                      ...      ...      ...      ...     ...\n",
       "2019-08-20 22:45:00  0.66276  0.66282  0.66254  0.66261   456.0\n",
       "2019-08-20 23:00:00  0.66261  0.66270  0.66250  0.66256   214.0\n",
       "2019-08-20 23:15:00  0.66255  0.66288  0.66254  0.66266   326.0\n",
       "2019-08-20 23:30:00  0.66266  0.66281  0.66253  0.66256   192.0\n",
       "2019-08-20 23:45:00  0.66254  0.66264  0.66225  0.66252   312.0\n",
       "\n",
       "[2112 rows x 5 columns]"
      ]
     },
     "execution_count": 7,
     "metadata": {},
     "output_type": "execute_result"
    }
   ],
   "source": [
    "start_time = dt.datetime(2019,7,20)\n",
    "end_time = dt.datetime(2019,8,20)\n",
    "\n",
    "my_velas.set_time_interval(start_time, end_time, trim = False)\n",
    "my_velas.df"
   ]
  },
  {
   "cell_type": "code",
   "execution_count": 8,
   "metadata": {},
   "outputs": [
    {
     "data": {
      "text/plain": [
       "DatetimeIndex(['2019-07-22 00:00:00', '2019-07-22 00:15:00',\n",
       "               '2019-07-22 00:30:00', '2019-07-22 00:45:00',\n",
       "               '2019-07-22 01:00:00', '2019-07-22 01:15:00',\n",
       "               '2019-07-22 01:30:00', '2019-07-22 01:45:00',\n",
       "               '2019-07-22 02:00:00', '2019-07-22 02:15:00',\n",
       "               ...\n",
       "               '2019-08-20 21:30:00', '2019-08-20 21:45:00',\n",
       "               '2019-08-20 22:00:00', '2019-08-20 22:15:00',\n",
       "               '2019-08-20 22:30:00', '2019-08-20 22:45:00',\n",
       "               '2019-08-20 23:00:00', '2019-08-20 23:15:00',\n",
       "               '2019-08-20 23:30:00', '2019-08-20 23:45:00'],\n",
       "              dtype='datetime64[ns]', name='Date', length=2112, freq=None)"
      ]
     },
     "execution_count": 8,
     "metadata": {},
     "output_type": "execute_result"
    }
   ],
   "source": [
    "timestamps = my_velas.timestamps\n",
    "timestamps"
   ]
  },
  {
   "cell_type": "markdown",
   "metadata": {},
   "source": [
    "## Unwrapping the object\n",
    "\n",
    "The following shows the unwrap of a Velas object. In it, you can appreciate that:\n",
    " - The start and end time of the interval are stored as pandas timestamp objects.\n",
    " - The pandas DataFrame is stored as an interval variable \"_df\" \n",
    " - The temporal mask is stored as a numpy array with the indexes that are within the interval.\n",
    " \n"
   ]
  },
  {
   "cell_type": "code",
   "execution_count": 9,
   "metadata": {
    "scrolled": false
   },
   "outputs": [
    {
     "name": "stdout",
     "output_type": "stream",
     "text": [
      "<Velas>\tvelas has children:\n",
      "   <str>\tsymbol_name:\tAUDCHF\n",
      "   <Timeframes>\ttimeframe:\tTimeframes.M15\n",
      "   <Timestamp>\tstart_time:\t2019-07-20 00:00:00\n",
      "   <Timestamp>\tend_time:\t2019-08-20 00:00:00\n",
      "   <ndarray>\t_time_mask:\t[97532 97533 97534 ... 99641 99642 99643\n",
      "   <DataFrame>\t_df\n",
      "   <bool>\t_trimmed:\tFalse\n",
      "\n",
      "   <DataFrame>\t_df has children:\n",
      "      <str>\tcolumns:\t['Open', 'High', 'Low', 'Close', 'Volume\n",
      "      <DatetimeIndex>\tindex:\tDatetimeIndex(['2015-08-14 23:45:00', '2\n",
      "\n",
      "\n"
     ]
    }
   ],
   "source": [
    "unwrap(my_velas, \"velas\")"
   ]
  },
  {
   "cell_type": "markdown",
   "metadata": {},
   "source": [
    "## Basic time series\n",
    "\n",
    "From the raw data, we can already obtain a set of time series which will take the form of pandas Series. To do so, the [key] of the object has been overloaded. The accepted basic series are:\n",
    "- Open, Close, High, Low, Volume: Simply the raw data from the pandas dataframe.\n",
    "- Average: The average of the OCHL\n",
    "- RangeHL: High - Low\n",
    "- RangeCO: Close - Open\n"
   ]
  },
  {
   "cell_type": "code",
   "execution_count": 13,
   "metadata": {},
   "outputs": [
    {
     "name": "stdout",
     "output_type": "stream",
     "text": [
      "<class 'pandas.core.series.Series'>\n"
     ]
    },
    {
     "data": {
      "text/plain": [
       "Date\n",
       "2019-07-22 00:00:00    0.692087\n",
       "2019-07-22 00:15:00    0.691938\n",
       "2019-07-22 00:30:00    0.692000\n",
       "2019-07-22 00:45:00    0.691898\n",
       "2019-07-22 01:00:00    0.691815\n",
       "                         ...   \n",
       "2019-08-20 22:45:00    0.662682\n",
       "2019-08-20 23:00:00    0.662593\n",
       "2019-08-20 23:15:00    0.662658\n",
       "2019-08-20 23:30:00    0.662640\n",
       "2019-08-20 23:45:00    0.662488\n",
       "Length: 2112, dtype: float64"
      ]
     },
     "execution_count": 13,
     "metadata": {},
     "output_type": "execute_result"
    }
   ],
   "source": [
    "close = my_velas.series(\"Close\")\n",
    "average = my_velas[\"Average\"]\n",
    "\n",
    "print(type(average))\n",
    "average"
   ]
  },
  {
   "cell_type": "markdown",
   "metadata": {},
   "source": [
    "## Indicators\n",
    "There are a set of indicators implemented as methods. The format of the return data is also a pandas Series. In the case that the indicator returns more than one time series, it will return a pandas DataFrame with its corresponding columns. \n",
    "\n",
    "Moving averages: SMA, \n",
    "Oscillators: \n",
    "\n",
    "Notice that for indicators that require MAs, the first samples will be NaN until enough samples are had.\n"
   ]
  },
  {
   "cell_type": "code",
   "execution_count": 14,
   "metadata": {},
   "outputs": [
    {
     "name": "stdout",
     "output_type": "stream",
     "text": [
      "<class 'pandas.core.series.Series'>\n",
      "Date\n",
      "2019-07-22 00:00:00         NaN\n",
      "2019-07-22 00:15:00         NaN\n",
      "2019-07-22 00:30:00         NaN\n",
      "2019-07-22 00:45:00         NaN\n",
      "2019-07-22 01:00:00         NaN\n",
      "                         ...   \n",
      "2019-08-20 22:45:00    0.663102\n",
      "2019-08-20 23:00:00    0.663042\n",
      "2019-08-20 23:15:00    0.662976\n",
      "2019-08-20 23:30:00    0.662920\n",
      "2019-08-20 23:45:00    0.662874\n",
      "Name: Close, Length: 2112, dtype: float64\n"
     ]
    }
   ],
   "source": [
    "my_velas_SMA = my_velas.SMA(series_name = \"Close\", n = 20)\n",
    "\n",
    "print(type(my_velas_SMA))\n",
    "print (my_velas_SMA)"
   ]
  },
  {
   "cell_type": "markdown",
   "metadata": {},
   "source": [
    "## Basic plottings\n",
    "\n",
    "Plotting trading data can be challenging due to:\n",
    "- Dealing with difference in timestamps from: numpy, datetime, time, pandas.\n",
    "- Dealing with NaN values\n",
    "- Dealing with the formatting of the datetime \n",
    "- Dealing with the pandas Series formatting\n",
    "- Dealing with plotting \n",
    "- Dealing with intraday data: \n",
    "\n",
    "The goal of having internal plotting functions is to optimize the amount of code needed to do the most common types of plots. These problems are deal with to some degree within the gl library, which is used in most of the implemented functions, but it is not necessary. This Notebook does not cover the gl library.\n"
   ]
  },
  {
   "cell_type": "code",
   "execution_count": 12,
   "metadata": {},
   "outputs": [
    {
     "ename": "TypeError",
     "evalue": "figure_management() got an unexpected keyword argument 'ax'",
     "output_type": "error",
     "traceback": [
      "\u001b[0;31m---------------------------------------------------------------------------\u001b[0m",
      "\u001b[0;31mTypeError\u001b[0m                                 Traceback (most recent call last)",
      "\u001b[0;32m<ipython-input-12-1e6f94bb1d5f>\u001b[0m in \u001b[0;36m<module>\u001b[0;34m\u001b[0m\n\u001b[1;32m      8\u001b[0m \u001b[0;34m\u001b[0m\u001b[0m\n\u001b[1;32m      9\u001b[0m \u001b[0mgl\u001b[0m\u001b[0;34m.\u001b[0m\u001b[0minit_figure\u001b[0m\u001b[0;34m(\u001b[0m\u001b[0;34m)\u001b[0m\u001b[0;34m\u001b[0m\u001b[0;34m\u001b[0m\u001b[0m\n\u001b[0;32m---> 10\u001b[0;31m \u001b[0mgl\u001b[0m\u001b[0;34m.\u001b[0m\u001b[0mplot\u001b[0m\u001b[0;34m(\u001b[0m\u001b[0mtimestamps\u001b[0m\u001b[0;34m,\u001b[0m\u001b[0mclose_values\u001b[0m\u001b[0;34m)\u001b[0m\u001b[0;34m\u001b[0m\u001b[0;34m\u001b[0m\u001b[0m\n\u001b[0m\u001b[1;32m     11\u001b[0m \u001b[0;34m\u001b[0m\u001b[0m\n\u001b[1;32m     12\u001b[0m \u001b[0mgl\u001b[0m\u001b[0;34m.\u001b[0m\u001b[0msavefig\u001b[0m\u001b[0;34m(\u001b[0m\u001b[0mimg_path\u001b[0m\u001b[0;34m,\u001b[0m \u001b[0mdpi\u001b[0m \u001b[0;34m=\u001b[0m \u001b[0;36m100\u001b[0m\u001b[0;34m,\u001b[0m \u001b[0msizeInches\u001b[0m \u001b[0;34m=\u001b[0m \u001b[0msizeInches\u001b[0m\u001b[0;34m,\u001b[0m \u001b[0mclose\u001b[0m \u001b[0;34m=\u001b[0m \u001b[0;32mTrue\u001b[0m\u001b[0;34m)\u001b[0m\u001b[0;34m\u001b[0m\u001b[0;34m\u001b[0m\u001b[0m\n",
      "\u001b[0;32m~/Desktop/bolsa/Trapyng/Code/traphing/traphing/graph/_plots.py\u001b[0m in \u001b[0;36mplot\u001b[0;34m(self, X, Y, labels, legend, color, lw, alpha, nf, na, ax, position, sharex, sharey, projection, fontsizes, xlimPad, ylimPad, xlim, ylim, ws, initX, loc, fill, alpha_line, fill_offset, ls, marker, xaxis_mode, yaxis_mode, AxesStyle, dataTransform, return_drawing_elements)\u001b[0m\n\u001b[1;32m     49\u001b[0m     \u001b[0;31m# Management of the figure and properties\u001b[0m\u001b[0;34m\u001b[0m\u001b[0;34m\u001b[0m\u001b[0;34m\u001b[0m\u001b[0m\n\u001b[1;32m     50\u001b[0m     ax = self.figure_management(nf, na, ax = ax, sharex = sharex, sharey = sharey,\n\u001b[0;32m---> 51\u001b[0;31m                       projection = projection, position = position)\n\u001b[0m\u001b[1;32m     52\u001b[0m \u001b[0;34m\u001b[0m\u001b[0m\n\u001b[1;32m     53\u001b[0m     \u001b[0;31m## Sometimes we just want an empty plot with the graph, so we just return the axes.\u001b[0m\u001b[0;34m\u001b[0m\u001b[0;34m\u001b[0m\u001b[0;34m\u001b[0m\u001b[0m\n",
      "\u001b[0;31mTypeError\u001b[0m: figure_management() got an unexpected keyword argument 'ax'"
     ]
    }
   ],
   "source": [
    "my_velas.set_time_interval(dt.datetime(2019,8,5),dt.datetime(2019,8,15))\n",
    "timestamps = my_velas.timestamps\n",
    "close_values = my_velas[\"Close\"]\n",
    "\n",
    "image_name = \"timeDataExample.png\"; sizeInches = [10, 4]\n",
    "folder_images = \"../pics/gl/\"\n",
    "img_path = folder_images + image_name\n",
    "\n",
    "gl.init_figure()\n",
    "gl.plot(timestamps,close_values)\n",
    "\n",
    "gl.savefig(img_path, dpi = 100, sizeInches = sizeInches, close = True)\n",
    "Image(img_path)"
   ]
  },
  {
   "cell_type": "code",
   "execution_count": null,
   "metadata": {},
   "outputs": [],
   "source": [
    "\n",
    "\n"
   ]
  },
  {
   "cell_type": "markdown",
   "metadata": {},
   "source": [
    "## Time guessing functinos"
   ]
  },
  {
   "cell_type": "code",
   "execution_count": null,
   "metadata": {},
   "outputs": [],
   "source": []
  },
  {
   "cell_type": "code",
   "execution_count": 13,
   "metadata": {},
   "outputs": [
    {
     "ename": "NameError",
     "evalue": "name 'timeData' is not defined",
     "output_type": "error",
     "traceback": [
      "\u001b[0;31m---------------------------------------------------------------------------\u001b[0m",
      "\u001b[0;31mNameError\u001b[0m                                 Traceback (most recent call last)",
      "\u001b[0;32m<ipython-input-13-e105e0033b8e>\u001b[0m in \u001b[0;36m<module>\u001b[0;34m\u001b[0m\n\u001b[1;32m      1\u001b[0m \u001b[0;31m# In order to plot intraday data without discontnuities we need to know\u001b[0m\u001b[0;34m\u001b[0m\u001b[0;34m\u001b[0m\u001b[0;34m\u001b[0m\u001b[0m\n\u001b[1;32m      2\u001b[0m \u001b[0;31m# its market hours.\u001b[0m\u001b[0;34m\u001b[0m\u001b[0;34m\u001b[0m\u001b[0;34m\u001b[0m\u001b[0m\n\u001b[0;32m----> 3\u001b[0;31m \u001b[0mopentime\u001b[0m\u001b[0;34m,\u001b[0m \u001b[0mclosetime\u001b[0m \u001b[0;34m=\u001b[0m \u001b[0mtimeData\u001b[0m\u001b[0;34m.\u001b[0m\u001b[0mguess_openMarketTime\u001b[0m\u001b[0;34m(\u001b[0m\u001b[0;34m)\u001b[0m\u001b[0;34m\u001b[0m\u001b[0;34m\u001b[0m\u001b[0m\n\u001b[0m\u001b[1;32m      4\u001b[0m \u001b[0mperiod\u001b[0m \u001b[0;34m=\u001b[0m \u001b[0mtimeData\u001b[0m\u001b[0;34m.\u001b[0m\u001b[0mguess_period\u001b[0m\u001b[0;34m(\u001b[0m\u001b[0;34m)\u001b[0m \u001b[0;31m# Not needed but implemented\u001b[0m\u001b[0;34m\u001b[0m\u001b[0;34m\u001b[0m\u001b[0m\n\u001b[1;32m      5\u001b[0m \u001b[0;31m# Information needed for proper plotting.\u001b[0m\u001b[0;34m\u001b[0m\u001b[0;34m\u001b[0m\u001b[0;34m\u001b[0m\u001b[0m\n",
      "\u001b[0;31mNameError\u001b[0m: name 'timeData' is not defined"
     ]
    }
   ],
   "source": [
    "# In order to plot intraday data without discontnuities we need to know \n",
    "# its market hours.\n",
    "opentime, closetime = timeData.guess_openMarketTime()\n",
    "period = timeData.guess_period() # Not needed but implemented\n",
    "# Information needed for proper plotting.\n",
    "dataTransform = [\"intraday\", opentime, closetime]\n",
    "\n",
    "print (\"Loaded: %s %i minutes\"%(timeData.symbolID, timeData.period))\n",
    "print (\"Market Hours \" + str(opentime) +\" - \" + str(closetime))\n",
    "print (\"Loaded dates: \", sdate,\" to \", edate)"
   ]
  },
  {
   "cell_type": "markdown",
   "metadata": {},
   "source": [
    "## Intraday data manipulation\n",
    "\n",
    "Usually, when we have intraday data (M1, M5, M15...) we would like to make specific processing to each day XXX.\n",
    "\n",
    "Due to the gap between sessions, it is usually not a good idea to compute indicators at candlestic level (i.e. an MA over the M5 candlesticks). \n"
   ]
  }
 ],
 "metadata": {
  "kernelspec": {
   "display_name": "Python 3",
   "language": "python",
   "name": "python3"
  },
  "language_info": {
   "codemirror_mode": {
    "name": "ipython",
    "version": 3
   },
   "file_extension": ".py",
   "mimetype": "text/x-python",
   "name": "python",
   "nbconvert_exporter": "python",
   "pygments_lexer": "ipython3",
   "version": "3.7.4"
  }
 },
 "nbformat": 4,
 "nbformat_minor": 2
}
