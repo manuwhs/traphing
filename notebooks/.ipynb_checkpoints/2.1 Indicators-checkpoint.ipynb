{
 "cells": [
  {
   "cell_type": "markdown",
   "metadata": {},
   "source": [
    "## Velas indicators\n",
    "\n",
    "This notebook simply calls all possible indicators and joins them together to check that everything is fine and have an overview of what is implemented.\n"
   ]
  },
  {
   "cell_type": "markdown",
   "metadata": {},
   "source": [
    "### Import libraries"
   ]
  },
  {
   "cell_type": "code",
   "execution_count": 1,
   "metadata": {},
   "outputs": [
    {
     "ename": "ImportError",
     "evalue": "cannot import name 'Timeframes' from 'traphing.utils' (/home/montoya/anaconda3/envs/python36/lib/python3.7/site-packages/traphing/utils/__init__.py)",
     "output_type": "error",
     "traceback": [
      "\u001b[0;31m---------------------------------------------------------------------------\u001b[0m",
      "\u001b[0;31mImportError\u001b[0m                               Traceback (most recent call last)",
      "\u001b[0;32m<ipython-input-1-8418f5219945>\u001b[0m in \u001b[0;36m<module>\u001b[0;34m\u001b[0m\n\u001b[1;32m      8\u001b[0m \u001b[0;34m\u001b[0m\u001b[0m\n\u001b[1;32m      9\u001b[0m \u001b[0;32mfrom\u001b[0m \u001b[0mtraphing\u001b[0m\u001b[0;34m.\u001b[0m\u001b[0mdata_classes\u001b[0m \u001b[0;32mimport\u001b[0m \u001b[0mVelas\u001b[0m\u001b[0;34m\u001b[0m\u001b[0;34m\u001b[0m\u001b[0m\n\u001b[0;32m---> 10\u001b[0;31m \u001b[0;32mfrom\u001b[0m \u001b[0mtraphing\u001b[0m\u001b[0;34m.\u001b[0m\u001b[0mutils\u001b[0m \u001b[0;32mimport\u001b[0m \u001b[0mTimeframes\u001b[0m\u001b[0;34m,\u001b[0m \u001b[0munwrap\u001b[0m\u001b[0;34m,\u001b[0m \u001b[0mMarketHours\u001b[0m\u001b[0;34m\u001b[0m\u001b[0;34m\u001b[0m\u001b[0m\n\u001b[0m\u001b[1;32m     11\u001b[0m \u001b[0;32mfrom\u001b[0m \u001b[0mtraphing\u001b[0m\u001b[0;34m.\u001b[0m\u001b[0mgraph\u001b[0m\u001b[0;34m.\u001b[0m\u001b[0mGl\u001b[0m \u001b[0;32mimport\u001b[0m \u001b[0mgl\u001b[0m\u001b[0;34m\u001b[0m\u001b[0;34m\u001b[0m\u001b[0m\n",
      "\u001b[0;31mImportError\u001b[0m: cannot import name 'Timeframes' from 'traphing.utils' (/home/montoya/anaconda3/envs/python36/lib/python3.7/site-packages/traphing/utils/__init__.py)"
     ]
    }
   ],
   "source": [
    "import datetime as dt\n",
    "import pandas as pd\n",
    "from IPython.display import Image\n",
    "%matplotlib qt\n",
    "\n",
    "import sys\n",
    "sys.path.insert(0, \"..\")  # Adds higher directory to python modules path.\n",
    "\n",
    "from traphing.data_classes import Velas\n",
    "from traphing.utils import Timeframes, unwrap, MarketHours\n",
    "from traphing.graph.Gl import gl"
   ]
  },
  {
   "cell_type": "markdown",
   "metadata": {},
   "source": [
    "### Create and Load a Velas object"
   ]
  },
  {
   "cell_type": "code",
   "execution_count": null,
   "metadata": {},
   "outputs": [],
   "source": [
    "symbol_name = \"AUDCHF\"\n",
    "timeframe = Timeframes.M15\n",
    "\n",
    "velas = Velas(symbol_name, timeframe)\n",
    "storage_folder = \"../tests/data/storage/\"\n",
    "velas.load_data_from_csv(storage_folder)\n",
    "\n",
    "start_time = dt.datetime(2019,7,20)\n",
    "end_time = dt.datetime(2019,8,20)\n",
    "\n",
    "velas.set_time_interval(start_time, end_time, trim = False)"
   ]
  },
  {
   "cell_type": "markdown",
   "metadata": {},
   "source": [
    "# Indicators to test"
   ]
  },
  {
   "cell_type": "code",
   "execution_count": null,
   "metadata": {},
   "outputs": [],
   "source": [
    "MA_names = [\"SMA\",\"EMA\",\"WMA\",\"HMA\",\"HMAg\"]\n",
    "MA_args = [{\"n\":20, \"series_name\":\"Close\"}, {\"n\":40}, {},{},{}]\n",
    "\n",
    "SR_names = [\"PPSR\",\"FibboSR\", \"PSAR\", \"BBANDS\"]\n",
    "SR_args = [{}, {}, {}, {}]\n",
    "\n",
    "MOM_names = [\"MOM\",\"ROC\", \"RETURN\"]\n",
    "MOM_args = [{}, {}, {}]\n",
    "\n",
    "Volatility_names = [\"STD\",\"AHLR\", \"ATR\", \"Chaikin_vol\", \"GAP\"]\n",
    "Volatility_args = [{}, {}, {}, {}, {}]\n",
    "\n",
    "Oscillators_names = [\"STO\",\"MACD\",\"TRIX\",\"RSI\"]\n",
    "Oscillators_args = [{}, {}, {}, {}]\n",
    "\n",
    "Volume_names = [\"ACCDIST\"]\n",
    "Volume_args = [{}, {}, {}, {}]"
   ]
  },
  {
   "cell_type": "markdown",
   "metadata": {},
   "source": [
    "## Moving Averages"
   ]
  },
  {
   "cell_type": "code",
   "execution_count": null,
   "metadata": {},
   "outputs": [],
   "source": [
    "indicators_list = [velas.series(\"Close\")]\n",
    "for i in range(len(MA_names)):\n",
    "    name,args = MA_names[i],MA_args[i]\n",
    "    indicator = velas.indicator(name, **args)\n",
    "    indicators_list.append(indicator)\n",
    "pd.concat(indicators_list,axis = 1)"
   ]
  },
  {
   "cell_type": "markdown",
   "metadata": {},
   "source": [
    "## Support and resistances"
   ]
  },
  {
   "cell_type": "code",
   "execution_count": null,
   "metadata": {},
   "outputs": [],
   "source": [
    "indicators_list = [velas.series(\"Close\")]\n",
    "for i in range(len(SR_names)):\n",
    "    name,args = SR_names[i],SR_args[i]\n",
    "    indicator = velas.indicator(name, **args)\n",
    "    indicators_list.append(indicator)\n",
    "pd.concat(indicators_list,axis = 1)"
   ]
  },
  {
   "cell_type": "markdown",
   "metadata": {},
   "source": [
    "## Momentum"
   ]
  },
  {
   "cell_type": "code",
   "execution_count": null,
   "metadata": {},
   "outputs": [],
   "source": [
    "indicators_list = [velas.series(\"Close\")]\n",
    "for i in range(len(MOM_names)):\n",
    "    name,args = MOM_names[i],MOM_args[i]\n",
    "    indicator = velas.indicator(name, **args)\n",
    "    indicators_list.append(indicator)\n",
    "pd.concat(indicators_list,axis = 1)"
   ]
  },
  {
   "cell_type": "markdown",
   "metadata": {},
   "source": [
    "## Volatility"
   ]
  },
  {
   "cell_type": "code",
   "execution_count": null,
   "metadata": {},
   "outputs": [],
   "source": [
    "indicators_list = [velas.series(\"Close\")]\n",
    "for i in range(len(Volatility_names)):\n",
    "    name,args = Volatility_names[i],Volatility_args[i]\n",
    "    indicator = velas.indicator(name, **args)\n",
    "    indicators_list.append(indicator)\n",
    "pd.concat(indicators_list,axis = 1)"
   ]
  },
  {
   "cell_type": "markdown",
   "metadata": {},
   "source": [
    "## Oscillators"
   ]
  },
  {
   "cell_type": "code",
   "execution_count": null,
   "metadata": {},
   "outputs": [],
   "source": [
    "indicators_list = [velas.series(\"Close\")]\n",
    "for i in range(len(Oscillators_names)):\n",
    "    name,args = Oscillators_names[i],Oscillators_args[i]\n",
    "    indicator = velas.indicator(name, **args)\n",
    "    indicators_list.append(indicator)\n",
    "pd.concat(indicators_list,axis = 1)"
   ]
  },
  {
   "cell_type": "markdown",
   "metadata": {},
   "source": [
    "## Volume"
   ]
  },
  {
   "cell_type": "code",
   "execution_count": null,
   "metadata": {},
   "outputs": [],
   "source": [
    "indicators_list = [velas.series(\"Close\")]\n",
    "for i in range(len(Volume_names)):\n",
    "    name,args = Volume_names[i],Volume_args[i]\n",
    "    indicator = velas.indicator(name, **args)\n",
    "    indicators_list.append(indicator)\n",
    "pd.concat(indicators_list,axis = 1)"
   ]
  },
  {
   "cell_type": "code",
   "execution_count": null,
   "metadata": {},
   "outputs": [],
   "source": []
  }
 ],
 "metadata": {
  "kernelspec": {
   "display_name": "Python 3",
   "language": "python",
   "name": "python3"
  },
  "language_info": {
   "codemirror_mode": {
    "name": "ipython",
    "version": 3
   },
   "file_extension": ".py",
   "mimetype": "text/x-python",
   "name": "python",
   "nbconvert_exporter": "python",
   "pygments_lexer": "ipython3",
   "version": "3.7.4"
  }
 },
 "nbformat": 4,
 "nbformat_minor": 2
}
