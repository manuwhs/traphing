{
 "cells": [
  {
   "cell_type": "markdown",
   "metadata": {},
   "source": [
    "## About executing code in Notebooks\n",
    "\n",
    "If you are modifying the code in the library, remember to restart the kernel, otherwise it will not load the new version of the library even if you run again the cell that imports them."
   ]
  },
  {
   "cell_type": "markdown",
   "metadata": {},
   "source": [
    "## About directories:\n",
    "\n",
    "Tha is why we usually use the lines put the lines:"
   ]
  },
  {
   "cell_type": "code",
   "execution_count": 20,
   "metadata": {},
   "outputs": [
    {
     "name": "stdout",
     "output_type": "stream",
     "text": [
      "['/home/montoya/Desktop/bolsa/Trapyng/Code/traphing/notebooks', '/home/montoya/anaconda3/envs/python36/lib/python37.zip', '/home/montoya/anaconda3/envs/python36/lib/python3.7', '/home/montoya/anaconda3/envs/python36/lib/python3.7/lib-dynload', '', '/home/montoya/anaconda3/envs/python36/lib/python3.7/site-packages', '/home/montoya/anaconda3/envs/python36/lib/python3.7/site-packages/IPython/extensions', '/home/montoya/.ipython', '..', '..', '..']\n"
     ]
    }
   ],
   "source": [
    "import sys\n",
    "sys.path.append(\"..\") # Adds higher directory to python modules path.\n",
    "print(sys.path)"
   ]
  },
  {
   "cell_type": "markdown",
   "metadata": {},
   "source": [
    "Inside the library, we import code using .. Like for example printing the output of XX we have:"
   ]
  },
  {
   "cell_type": "code",
   "execution_count": 21,
   "metadata": {},
   "outputs": [
    {
     "name": "stdout",
     "output_type": "stream",
     "text": [
      "import numpy as np\n",
      "import datetime as dt\n",
      "\n",
      "from typing import List\n",
      "from ... import utils\n",
      "from ...utils import Timeframes\n",
      "from ...data_classes import Symbol\n",
      "\n"
     ]
    }
   ],
   "source": [
    "with open(\"../traphing/data_classes/_Portfolio/_core_functions.py\", \"r\") as traphing_file:\n",
    "    traphing_file_text = traphing_file.read()\n",
    "first_lines = \"\\n\".join([traphing_file_text.split(\"\\n\")[i] for i in range(8)])\n",
    "print(first_lines)"
   ]
  },
  {
   "cell_type": "markdown",
   "metadata": {},
   "source": [
    "### Running tests\n",
    "\n",
    "In order to run the tests, open a terminal and execute shit code:\n"
   ]
  },
  {
   "cell_type": "code",
   "execution_count": null,
   "metadata": {},
   "outputs": [],
   "source": [
    "import os\n",
    "import subprocess"
   ]
  },
  {
   "cell_type": "code",
   "execution_count": 1,
   "metadata": {},
   "outputs": [],
   "source": [
    "\n",
    "\n",
    "def call_subprocess(cmd):\n",
    "    cmd = cmd.split(\" \")\n",
    "    proc = subprocess.Popen(cmd, stdout=subprocess.PIPE, stderr=subprocess.PIPE)\n",
    "    o, e = proc.communicate()\n",
    "    print('Output: ' + o.decode('ascii'))\n",
    "    \n",
    "    print('Error: '  + e.decode('ascii'))\n",
    "    print('code: ' + str(proc.returncode))"
   ]
  },
  {
   "cell_type": "code",
   "execution_count": 4,
   "metadata": {},
   "outputs": [
    {
     "name": "stdout",
     "output_type": "stream",
     "text": [
      "Output: ============================= test session starts ==============================\n",
      "platform linux -- Python 3.7.4, pytest-5.1.2, py-1.8.0, pluggy-0.13.0\n",
      "rootdir: /home/montoya/Desktop/bolsa/Trapyng/Code/traphing\n",
      "collected 18 items\n",
      "\n",
      "test_Portfolio.py ...                                                    [ 16%]\n",
      "test_Symbol.py .....                                                     [ 44%]\n",
      "test_Velas.py .........                                                  [ 94%]\n",
      "test_Velas_indicators.py .                                               [100%]\n",
      "\n",
      "============================== 18 passed in 3.97s ==============================\n",
      "\n",
      "Error: \n",
      "code: 0\n"
     ]
    }
   ],
   "source": [
    "os.chdir(\"../tests\")\n",
    "\n",
    "cmd = \"pytest\"\n",
    "try:\n",
    "    call_subprocess(cmd)\n",
    "except:\n",
    "    os.chdir(\"../notebooks\")"
   ]
  },
  {
   "cell_type": "markdown",
   "metadata": {},
   "source": [
    "### Building the pip library\n",
    "\n",
    " The code is published in pip"
   ]
  },
  {
   "cell_type": "code",
   "execution_count": 7,
   "metadata": {},
   "outputs": [
    {
     "name": "stdout",
     "output_type": "stream",
     "text": [
      "from setuptools import setup, find_packages\n",
      "\n",
      "with open(\"README.md\", \"r\") as readme_file:\n",
      "    readme = readme_file.read()\n",
      "\n",
      "requirements = [\"ipython>=6\", \"nbformat>=4\", \"nbconvert>=5\", \"requests>=2\"]\n",
      "\n",
      "setup(\n",
      "    name=\"traphing\",\n",
      "    version=\"0.0.3\",\n",
      "    author=\"Manuel Montoya\",\n",
      "    author_email=\"manuwhs@gmail.com\",\n",
      "    description=\"A package to make trading in python easier\",\n",
      "    long_description=readme,\n",
      "    long_description_content_type=\"text/markdown\",\n",
      "    url=\"https://github.com/manuwhs/traphing\",\n",
      "    packages=find_packages(),\n",
      "    install_requires=requirements,\n",
      "    include_package_data=True,\n",
      "    classifiers=[\n",
      "        \"Programming Language :: Python :: 3.7\",\n",
      "        \"License :: OSI Approved :: GNU General Public License v3 (GPLv3)\",\n",
      "    ],\n",
      ")\n",
      "\n"
     ]
    }
   ],
   "source": [
    "with open(\"../setup.py\", \"r\") as readme_file:\n",
    "    readme = readme_file.read()\n",
    "print(readme)"
   ]
  },
  {
   "cell_type": "markdown",
   "metadata": {},
   "source": [
    "## Setting development dependencies\n",
    "\n",
    "Usually the libraries needed as a developer are more extensive than the ones the user needs, like for example pytest or jupyter. \n",
    "\n",
    "In the file XX you can specify them."
   ]
  },
  {
   "cell_type": "code",
   "execution_count": 9,
   "metadata": {},
   "outputs": [
    {
     "name": "stdout",
     "output_type": "stream",
     "text": [
      "black>=18.9b0\n",
      "pip>=19.0.3\n",
      "wheel>=0.33.1\n",
      "twine>=1.13.0\n",
      "\n"
     ]
    }
   ],
   "source": [
    "with open(\"../requirements_dev.txt\", \"r\") as readme_file:\n",
    "    readme = readme_file.read()\n",
    "print(readme)"
   ]
  },
  {
   "cell_type": "markdown",
   "metadata": {},
   "source": [
    "## Git flow\n",
    "\n",
    "Useful commands:\n",
    " - git add -A\n",
    " - git commit -m\"I am not affraid of commitment\"\n",
    " - git push \n",
    " \n",
    "- git checkout "
   ]
  },
  {
   "cell_type": "code",
   "execution_count": null,
   "metadata": {},
   "outputs": [],
   "source": []
  }
 ],
 "metadata": {
  "kernelspec": {
   "display_name": "Python 3",
   "language": "python",
   "name": "python3"
  },
  "language_info": {
   "codemirror_mode": {
    "name": "ipython",
    "version": 3
   },
   "file_extension": ".py",
   "mimetype": "text/x-python",
   "name": "python",
   "nbconvert_exporter": "python",
   "pygments_lexer": "ipython3",
   "version": "3.7.4"
  }
 },
 "nbformat": 4,
 "nbformat_minor": 2
}
