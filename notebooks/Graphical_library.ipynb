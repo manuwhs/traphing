{
 "cells": [
  {
   "cell_type": "markdown",
   "metadata": {},
   "source": [
    "## Welcome to legacy land!\n",
    "\n",
    "Once upon a time, I tried to create a wrapper library for matplotlib which would make life easier, as at the time I had to learn the functions in R, Matlab and Python at the same time and it was chaos. Over the years it became a Frankestein with no purpose in life, but now it has been resurrected to help us make plots a bit easier.\n"
   ]
  },
  {
   "cell_type": "code",
   "execution_count": 1,
   "metadata": {},
   "outputs": [],
   "source": [
    "import datetime as dt\n",
    "import pandas as pd\n",
    "from IPython.display import Image\n",
    "%matplotlib qt\n",
    "\n",
    "import sys\n",
    "sys.path.append(\"..\") # Adds higher directory to python modules path.\n",
    "\n",
    "from traphing.data_classes import Velas\n",
    "from traphing.utils import Timeframes, unwrap\n",
    "from traphing.graph.Gl import gl"
   ]
  },
  {
   "cell_type": "code",
   "execution_count": null,
   "metadata": {},
   "outputs": [],
   "source": [
    "gl.plot(\"\")"
   ]
  }
 ],
 "metadata": {
  "kernelspec": {
   "display_name": "Python 3",
   "language": "python",
   "name": "python3"
  },
  "language_info": {
   "codemirror_mode": {
    "name": "ipython",
    "version": 3
   },
   "file_extension": ".py",
   "mimetype": "text/x-python",
   "name": "python",
   "nbconvert_exporter": "python",
   "pygments_lexer": "ipython3",
   "version": "3.7.4"
  }
 },
 "nbformat": 4,
 "nbformat_minor": 2
}
