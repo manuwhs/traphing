{
 "cells": [
  {
   "cell_type": "markdown",
   "metadata": {},
   "source": [
    "# Exit strategies\n",
    "\n",
    "When a Entry Strategy creates a Entry Signal that is accepted by Brain and a trade is made. Then an Exit strategy is set up for it."
   ]
  },
  {
   "cell_type": "code",
   "execution_count": 1,
   "metadata": {},
   "outputs": [],
   "source": [
    "import datetime as dt\n",
    "import pandas as pd\n",
    "import numpy as np\n",
    "import matplotlib.pyplot as plt \n",
    "from IPython.display import Image\n",
    "%matplotlib qt\n",
    "\n",
    "import sys\n",
    "sys.path.insert(0, \"..\")  # Adds higher directory to python modules path.\n",
    "\n",
    "from traphing.data_classes import Velas, Portfolio\n",
    "\n",
    "from traphing.strategies import Trade\n",
    "from traphing.strategies.entry import EntryStrategy, CrossingMovingAverages\n",
    "from traphing.strategies.exit import ExitStrategy, StopLoss\n",
    "\n",
    "from traphing.utils import Timeframes, unwrap\n",
    "import traphing.utils  as ul\n",
    "\n",
    "from traphing.graph.Gl import gl\n",
    "\n",
    "folder_images = \"./images/python_generated/Velas/\""
   ]
  },
  {
   "cell_type": "markdown",
   "metadata": {},
   "source": [
    "## Setting up a portfolio\n",
    "\n",
    "Strategies work on porfolio objects, they are part of them.\n"
   ]
  },
  {
   "cell_type": "code",
   "execution_count": 2,
   "metadata": {},
   "outputs": [
    {
     "name": "stdout",
     "output_type": "stream",
     "text": [
      "Size ../tests/data/storage/M15/AUDCHF_M15.csv:  100400  rows\n"
     ]
    }
   ],
   "source": [
    "symbol_names_list = [\"AUDCHF\"]\n",
    "timeframes_list = [Timeframes.M15]\n",
    "portfolio_name = \"my_portfolio\"\n",
    "\n",
    "storage_folder = \"../tests/data/storage/\"\n",
    "\n",
    "portfolio = Portfolio(portfolio_name, symbol_names_list, timeframes_list)\n",
    "portfolio.load_data_from_csv(storage_folder)\n",
    "\n",
    "start_time = dt.datetime(2019,7,20); end_time = dt.datetime(2019,7,25)\n",
    "portfolio.set_time_interval(start_time,end_time)"
   ]
  },
  {
   "cell_type": "markdown",
   "metadata": {},
   "source": [
    "## Generate Entry signals to associate the Exit strategy"
   ]
  },
  {
   "cell_type": "code",
   "execution_count": 3,
   "metadata": {},
   "outputs": [],
   "source": [
    "entry_strategy = CrossingMovingAverages(\"Crossing averages 1\", portfolio)\n",
    "symbol_name = symbol_names_list[0]\n",
    "timeframe = timeframes_list[0]\n",
    "\n",
    "# Set the paramters\n",
    "slow_MA_params = {\"symbol_name\":symbol_name,\"timeframe\": timeframe,\"indicator_name\":\"SMA\", \"args\": {\"n\":40}}\n",
    "fast_MA_params = {\"symbol_name\":symbol_name,\"timeframe\": timeframe,\"indicator_name\":\"SMA\", \"args\":{\"n\":20}}\n",
    "\n",
    "entry_strategy.set_slow_MA(slow_MA_params)\n",
    "entry_strategy.set_fast_MA(fast_MA_params)\n",
    "\n",
    "entry_signals_dict = entry_strategy.get_entry_signals_dict()\n",
    "entries_dates = sorted(list(entry_signals_dict.keys()))"
   ]
  },
  {
   "cell_type": "code",
   "execution_count": 4,
   "metadata": {},
   "outputs": [
    {
     "name": "stdout",
     "output_type": "stream",
     "text": [
      "<EntrySignal>\tobject has children:\n",
      "    <str>\tstrategy_id:\tCrossing averages 1\n",
      "    <str>\tentry_signal_id:\t0\n",
      "    <Timestamp>\ttimestamp:\t2019-07-22 10:00:00\n",
      "    <str>\tBUYSELL:\tSELL\n",
      "    <int>\tpriority:\t0\n",
      "    <int>\trecommendedPosition:\t1\n",
      "    <str>\ttradingStyle:\tdayTrading\n",
      "    <str>\tcomments:\tBasic Crossing MA man !\n",
      "\n",
      "\n",
      "<EntrySignal>\tobject has children:\n",
      "    <str>\tstrategy_id:\tCrossing averages 1\n",
      "    <str>\tentry_signal_id:\t7\n",
      "    <Timestamp>\ttimestamp:\t2019-07-25 13:30:00\n",
      "    <str>\tBUYSELL:\tBUY\n",
      "    <int>\tpriority:\t0\n",
      "    <int>\trecommendedPosition:\t1\n",
      "    <str>\ttradingStyle:\tdayTrading\n",
      "    <str>\tcomments:\tBasic Crossing MA man !\n",
      "\n",
      "\n"
     ]
    }
   ],
   "source": [
    "unwrap(entry_signals_dict[entries_dates[0]])\n",
    "unwrap(entry_signals_dict[entries_dates[-1]])"
   ]
  },
  {
   "cell_type": "markdown",
   "metadata": {},
   "source": [
    "## Trade Class\n",
    "\n",
    "It contains all the information about a sucessful trade made. \n",
    "\n"
   ]
  },
  {
   "cell_type": "markdown",
   "metadata": {},
   "source": [
    "# ExitStrategy class\n",
    "\n",
    "The ExitStrategy class is a template for the strategies that defines the interface of all exit strategies. Once an EntrySignal has been accepted and its corresponding order placed, an instance of an ExitStrategy class will be created to monitor the trade.\n",
    "\n",
    "Every object of the Exit Strategy serves only one EntrySignal object.\n",
    "\n",
    "In the same way that a EntryStrategy object looks at a set up indicators, we also do it in here."
   ]
  },
  {
   "cell_type": "code",
   "execution_count": null,
   "metadata": {},
   "outputs": [],
   "source": [
    "entry_signal = entry_signals_dict[entries_dates[0]]\n",
    "trade = Trade(trade_id = \"3\", entry_signal = entry_signal, \n",
    "             price = )"
   ]
  },
  {
   "cell_type": "markdown",
   "metadata": {},
   "source": [
    "## Crossing Moving Averages Entry Strategy\n",
    "\n",
    "A classic, in this strategy, we compute two MAs of the CLOSE price:\n",
    " - The slow MA: \n",
    " - The fast MA: The current trend of the market."
   ]
  }
 ],
 "metadata": {
  "kernelspec": {
   "display_name": "Python 3",
   "language": "python",
   "name": "python3"
  },
  "language_info": {
   "codemirror_mode": {
    "name": "ipython",
    "version": 3
   },
   "file_extension": ".py",
   "mimetype": "text/x-python",
   "name": "python",
   "nbconvert_exporter": "python",
   "pygments_lexer": "ipython3",
   "version": "3.7.4"
  }
 },
 "nbformat": 4,
 "nbformat_minor": 2
}
